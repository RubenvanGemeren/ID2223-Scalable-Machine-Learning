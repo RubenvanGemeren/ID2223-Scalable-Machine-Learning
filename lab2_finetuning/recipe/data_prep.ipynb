{
 "cells": [
  {
   "cell_type": "code",
   "execution_count": 1,
   "metadata": {},
   "outputs": [
    {
     "name": "stderr",
     "output_type": "stream",
     "text": [
      "/home/johan-edeland/anaconda3/envs/unsloth_env/lib/python3.11/site-packages/tqdm/auto.py:21: TqdmWarning: IProgress not found. Please update jupyter and ipywidgets. See https://ipywidgets.readthedocs.io/en/stable/user_install.html\n",
      "  from .autonotebook import tqdm as notebook_tqdm\n"
     ]
    },
    {
     "name": "stdout",
     "output_type": "stream",
     "text": [
      "Warning: Looks like you're using an outdated `kagglehub` version, please consider updating (latest version: 0.3.4)\n",
      "Downloading from https://www.kaggle.com/api/v1/datasets/download/saldenisov/recipenlg?dataset_version_number=1...\n"
     ]
    },
    {
     "name": "stderr",
     "output_type": "stream",
     "text": [
      "100%|██████████| 638M/638M [00:58<00:00, 11.4MB/s] "
     ]
    },
    {
     "name": "stdout",
     "output_type": "stream",
     "text": [
      "Extracting model files...\n"
     ]
    },
    {
     "name": "stderr",
     "output_type": "stream",
     "text": [
      "\n"
     ]
    },
    {
     "name": "stdout",
     "output_type": "stream",
     "text": [
      "Path to dataset files: /home/johan-edeland/.cache/kagglehub/datasets/saldenisov/recipenlg/versions/1\n"
     ]
    }
   ],
   "source": [
    "import kagglehub\n",
    "\n",
    "# Download latest version\n",
    "path = kagglehub.dataset_download(\"saldenisov/recipenlg\")\n",
    "\n",
    "print(\"Path to dataset files:\", path)"
   ]
  },
  {
   "cell_type": "code",
   "execution_count": null,
   "metadata": {},
   "outputs": [
    {
     "name": "stdout",
     "output_type": "stream",
     "text": [
      "Files in the dataset directory: ['dataset']\n",
      "dataset\n"
     ]
    }
   ],
   "source": [
    "import os\n",
    "\n",
    "dataset_path = \"/home/johan-edeland/.cache/kagglehub/datasets/saldenisov/recipenlg/versions/1\"\n",
    "\n",
    "# List files in the directory\n",
    "files = os.listdir(dataset_path)\n",
    "print(\"Files in the dataset directory:\", files)\n",
    "for f in files:\n",
    "    print(f)\n"
   ]
  },
  {
   "cell_type": "code",
   "execution_count": 10,
   "metadata": {},
   "outputs": [
    {
     "name": "stdout",
     "output_type": "stream",
     "text": [
      "CSV file not found in the dataset directory.\n"
     ]
    }
   ],
   "source": [
    "import pandas as pd\n",
    "\n",
    "# Replace 'recipes.csv' with the actual filename\n",
    "csv_file = os.path.join(dataset_path, \"recipes.csv\")\n",
    "\n",
    "# Load the dataset\n",
    "if os.path.exists(csv_file):\n",
    "    data = pd.read_csv(csv_file)\n",
    "    print(\"Dataset loaded successfully!\")\n",
    "    print(data.head())\n",
    "else:\n",
    "    print(\"CSV file not found in the dataset directory.\")\n"
   ]
  },
  {
   "cell_type": "code",
   "execution_count": 2,
   "metadata": {},
   "outputs": [
    {
     "ename": "FileNotFoundError",
     "evalue": "[Errno 2] No such file or directory: 'recipe1m_raw.csv'",
     "output_type": "error",
     "traceback": [
      "\u001b[0;31m---------------------------------------------------------------------------\u001b[0m",
      "\u001b[0;31mFileNotFoundError\u001b[0m                         Traceback (most recent call last)",
      "Cell \u001b[0;32mIn[2], line 58\u001b[0m\n\u001b[1;32m     56\u001b[0m input_csv_path \u001b[38;5;241m=\u001b[39m \u001b[38;5;124m'\u001b[39m\u001b[38;5;124mrecipe1m_raw.csv\u001b[39m\u001b[38;5;124m'\u001b[39m\n\u001b[1;32m     57\u001b[0m output_json_path \u001b[38;5;241m=\u001b[39m \u001b[38;5;124m'\u001b[39m\u001b[38;5;124mpreprocessed_recipes.json\u001b[39m\u001b[38;5;124m'\u001b[39m\n\u001b[0;32m---> 58\u001b[0m \u001b[43mpreprocess_recipes_from_csv\u001b[49m\u001b[43m(\u001b[49m\u001b[43minput_csv_path\u001b[49m\u001b[43m,\u001b[49m\u001b[43m \u001b[49m\u001b[43moutput_json_path\u001b[49m\u001b[43m)\u001b[49m\n",
      "Cell \u001b[0;32mIn[2], line 15\u001b[0m, in \u001b[0;36mpreprocess_recipes_from_csv\u001b[0;34m(input_csv, output_file)\u001b[0m\n\u001b[1;32m     12\u001b[0m preprocessed_data \u001b[38;5;241m=\u001b[39m []\n\u001b[1;32m     14\u001b[0m \u001b[38;5;66;03m# Open and read the CSV file\u001b[39;00m\n\u001b[0;32m---> 15\u001b[0m \u001b[38;5;28;01mwith\u001b[39;00m \u001b[38;5;28;43mopen\u001b[39;49m\u001b[43m(\u001b[49m\u001b[43minput_csv\u001b[49m\u001b[43m,\u001b[49m\u001b[43m \u001b[49m\u001b[38;5;124;43m'\u001b[39;49m\u001b[38;5;124;43mr\u001b[39;49m\u001b[38;5;124;43m'\u001b[39;49m\u001b[43m)\u001b[49m \u001b[38;5;28;01mas\u001b[39;00m infile:\n\u001b[1;32m     16\u001b[0m     csv_reader \u001b[38;5;241m=\u001b[39m csv\u001b[38;5;241m.\u001b[39mDictReader(infile)\n\u001b[1;32m     18\u001b[0m     \u001b[38;5;28;01mfor\u001b[39;00m row \u001b[38;5;129;01min\u001b[39;00m csv_reader:\n\u001b[1;32m     19\u001b[0m         \u001b[38;5;66;03m# Extract relevant fields\u001b[39;00m\n",
      "File \u001b[0;32m~/anaconda3/envs/unsloth_env/lib/python3.11/site-packages/IPython/core/interactiveshell.py:324\u001b[0m, in \u001b[0;36m_modified_open\u001b[0;34m(file, *args, **kwargs)\u001b[0m\n\u001b[1;32m    317\u001b[0m \u001b[38;5;28;01mif\u001b[39;00m file \u001b[38;5;129;01min\u001b[39;00m {\u001b[38;5;241m0\u001b[39m, \u001b[38;5;241m1\u001b[39m, \u001b[38;5;241m2\u001b[39m}:\n\u001b[1;32m    318\u001b[0m     \u001b[38;5;28;01mraise\u001b[39;00m \u001b[38;5;167;01mValueError\u001b[39;00m(\n\u001b[1;32m    319\u001b[0m         \u001b[38;5;124mf\u001b[39m\u001b[38;5;124m\"\u001b[39m\u001b[38;5;124mIPython won\u001b[39m\u001b[38;5;124m'\u001b[39m\u001b[38;5;124mt let you open fd=\u001b[39m\u001b[38;5;132;01m{\u001b[39;00mfile\u001b[38;5;132;01m}\u001b[39;00m\u001b[38;5;124m by default \u001b[39m\u001b[38;5;124m\"\u001b[39m\n\u001b[1;32m    320\u001b[0m         \u001b[38;5;124m\"\u001b[39m\u001b[38;5;124mas it is likely to crash IPython. If you know what you are doing, \u001b[39m\u001b[38;5;124m\"\u001b[39m\n\u001b[1;32m    321\u001b[0m         \u001b[38;5;124m\"\u001b[39m\u001b[38;5;124myou can use builtins\u001b[39m\u001b[38;5;124m'\u001b[39m\u001b[38;5;124m open.\u001b[39m\u001b[38;5;124m\"\u001b[39m\n\u001b[1;32m    322\u001b[0m     )\n\u001b[0;32m--> 324\u001b[0m \u001b[38;5;28;01mreturn\u001b[39;00m \u001b[43mio_open\u001b[49m\u001b[43m(\u001b[49m\u001b[43mfile\u001b[49m\u001b[43m,\u001b[49m\u001b[43m \u001b[49m\u001b[38;5;241;43m*\u001b[39;49m\u001b[43margs\u001b[49m\u001b[43m,\u001b[49m\u001b[43m \u001b[49m\u001b[38;5;241;43m*\u001b[39;49m\u001b[38;5;241;43m*\u001b[39;49m\u001b[43mkwargs\u001b[49m\u001b[43m)\u001b[49m\n",
      "\u001b[0;31mFileNotFoundError\u001b[0m: [Errno 2] No such file or directory: 'recipe1m_raw.csv'"
     ]
    }
   ],
   "source": [
    "import csv\n",
    "import json\n",
    "\n",
    "def preprocess_recipes_from_csv(input_csv, output_file):\n",
    "    \"\"\"\n",
    "    Preprocesses the Recipe1M+ dataset from a CSV file into instruction-response format.\n",
    "    \n",
    "    Args:\n",
    "        input_csv (str): Path to the raw Recipe1M+ dataset file (CSV format).\n",
    "        output_file (str): Path to save the preprocessed dataset in instruction-response format.\n",
    "    \"\"\"\n",
    "    preprocessed_data = []\n",
    "    \n",
    "    # Open and read the CSV file\n",
    "    with open(input_csv, 'r') as infile:\n",
    "        csv_reader = csv.DictReader(infile)\n",
    "        \n",
    "        for row in csv_reader:\n",
    "            # Extract relevant fields\n",
    "            title = row.get('title', '').strip()\n",
    "            ingredients = row.get('ingredients', '').strip()\n",
    "            directions = row.get('directions', '').strip()\n",
    "            \n",
    "            # Skip recipes with missing fields\n",
    "            if not title or not ingredients or not directions:\n",
    "                continue\n",
    "            \n",
    "            # Split ingredients into a list and reformat as bullet points\n",
    "            ingredients_list = \"\\n\".join([f\"- {ing.strip()}\" for ing in ingredients.split('|') if ing.strip()])\n",
    "            \n",
    "            # Split directions into numbered steps\n",
    "            directions_list = \"\\n\".join([f\"{i + 1}. {step.strip()}\" for i, step in enumerate(directions.split('|')) if step.strip()])\n",
    "            \n",
    "            # Skip if directions are empty after processing\n",
    "            if not directions_list:\n",
    "                continue\n",
    "            \n",
    "            # Create instruction and response\n",
    "            instruction = f\"Write a recipe containing the following ingredients only:\\n{ingredients_list}\"\n",
    "            response = f\"<recipe>\\n<title> {title} </title>\\n<ingredients>\\n{ingredients_list}\\n</ingredients>\\n<directions>\\n{directions_list}\\n</directions>\\n</recipe>\"\n",
    "            \n",
    "            # Append to preprocessed data\n",
    "            preprocessed_data.append({\n",
    "                \"instruction\": instruction,\n",
    "                \"response\": response\n",
    "            })\n",
    "    \n",
    "    # Save the preprocessed data to a JSON file\n",
    "    with open(output_file, 'w') as outfile:\n",
    "        json.dump(preprocessed_data, outfile, indent=4)\n",
    "\n",
    "    print(f\"Preprocessed {len(preprocessed_data)} recipes and saved to {output_file}\")\n",
    "\n",
    "# Example Usage\n",
    "# Replace 'recipe1m_raw.csv' with the actual path to your Recipe1M+ dataset in CSV format\n",
    "input_csv_path = 'recipe1m_raw.csv'\n",
    "output_json_path = 'preprocessed_recipes.json'\n",
    "preprocess_recipes_from_csv(input_csv_path, output_json_path)\n"
   ]
  },
  {
   "cell_type": "code",
   "execution_count": null,
   "metadata": {},
   "outputs": [],
   "source": []
  }
 ],
 "metadata": {
  "kernelspec": {
   "display_name": "unsloth_env",
   "language": "python",
   "name": "python3"
  },
  "language_info": {
   "codemirror_mode": {
    "name": "ipython",
    "version": 3
   },
   "file_extension": ".py",
   "mimetype": "text/x-python",
   "name": "python",
   "nbconvert_exporter": "python",
   "pygments_lexer": "ipython3",
   "version": "3.11.8"
  }
 },
 "nbformat": 4,
 "nbformat_minor": 2
}
