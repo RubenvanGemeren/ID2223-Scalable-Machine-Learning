{
 "cells": [
  {
   "cell_type": "markdown",
   "metadata": {},
   "source": [
    "# Step 1 – Backfill"
   ]
  },
  {
   "cell_type": "markdown",
   "metadata": {},
   "source": [
    "### Setting up Hopsworks"
   ]
  },
  {
   "cell_type": "code",
   "execution_count": 165,
   "metadata": {},
   "outputs": [],
   "source": [
    "import hopsworks\n",
    "import os"
   ]
  },
  {
   "cell_type": "code",
   "execution_count": 166,
   "metadata": {},
   "outputs": [
    {
     "name": "stdout",
     "output_type": "stream",
     "text": [
      "2025-01-05 11:51:23,117 INFO: Closing external client and cleaning up certificates.\n",
      "Connection closed.\n",
      "2025-01-05 11:51:23,121 INFO: Initializing external client\n",
      "2025-01-05 11:51:23,121 INFO: Base URL: https://c.app.hopsworks.ai:443\n",
      "2025-01-05 11:51:24,371 INFO: Python Engine initialized.\n",
      "\n",
      "Logged in to project, explore it here https://c.app.hopsworks.ai:443/p/1159321\n",
      "Default project\n"
     ]
    }
   ],
   "source": [
    "try:\n",
    "    with open('./hopsworks/hopsworks-api-key.txt', 'r') as file:\n",
    "        os.environ[\"HOPSWORKS_API_KEY\"] = file.read().rstrip()\n",
    "except:\n",
    "    print(\"In production mode\")\n",
    "    \n",
    "project = hopsworks.login()\n",
    "print(project.description)"
   ]
  },
  {
   "cell_type": "markdown",
   "metadata": {},
   "source": [
    "### Getting historical data"
   ]
  },
  {
   "cell_type": "code",
   "execution_count": 167,
   "metadata": {},
   "outputs": [],
   "source": [
    "import requests\n",
    "import pandas as pd\n",
    "import numpy as np"
   ]
  },
  {
   "cell_type": "code",
   "execution_count": 168,
   "metadata": {},
   "outputs": [],
   "source": [
    "bootstrap_url = \"https://fantasy.premierleague.com/api/bootstrap-static/\"\n",
    "fixtures_url = \"https://fantasy.premierleague.com/api/fixtures?futures={future}\"\n",
    "player_details_url = \"https://fantasy.premierleague.com/api/element-summary/{element_id}\"\n",
    "player_stats_gw_url = \"https://fantasy.premierleague.com/api/event/{gw}/live/\""
   ]
  },
  {
   "cell_type": "markdown",
   "metadata": {},
   "source": [
    "## Fetching general data from https://fantasy.premierleague.com/api/bootstrap-static/\n",
    "\n",
    "### From the general data, we take genreal information about the players, teams, and events (gameweeks)."
   ]
  },
  {
   "cell_type": "code",
   "execution_count": 169,
   "metadata": {},
   "outputs": [],
   "source": [
    "general_data = requests.get(bootstrap_url).json()"
   ]
  },
  {
   "cell_type": "code",
   "execution_count": 170,
   "metadata": {},
   "outputs": [],
   "source": [
    "upcoming_fixtures_data = requests.get(fixtures_url).json()"
   ]
  },
  {
   "cell_type": "code",
   "execution_count": 171,
   "metadata": {},
   "outputs": [],
   "source": [
    "#played_fixtures_data = requests.get(fixtures_url.format(future=False)).json()"
   ]
  },
  {
   "cell_type": "code",
   "execution_count": 172,
   "metadata": {},
   "outputs": [],
   "source": [
    "#element_id = 1  # Set the desired player element ID\n",
    "#player_details_url_formatted = player_details_url.format(element_id=element_id)\n",
    "#player_details = requests.get(player_details_url_formatted).json()"
   ]
  },
  {
   "cell_type": "code",
   "execution_count": 173,
   "metadata": {},
   "outputs": [],
   "source": [
    "#events_df = pd.DataFrame(general_data[\"events\"])\n",
    "#events_df.columns"
   ]
  },
  {
   "cell_type": "code",
   "execution_count": 174,
   "metadata": {},
   "outputs": [],
   "source": [
    "#players_df = pd.DataFrame(general_data[\"elements\"])\n",
    "#players_df.columns"
   ]
  },
  {
   "cell_type": "code",
   "execution_count": 175,
   "metadata": {},
   "outputs": [],
   "source": [
    "#teams_df = pd.DataFrame(general_data[\"teams\"])\n",
    "#teams_df.columns"
   ]
  },
  {
   "cell_type": "code",
   "execution_count": 176,
   "metadata": {},
   "outputs": [],
   "source": [
    "#upcoming_fixtures_df = pd.DataFrame(upcoming_fixtures_data)\n",
    "#upcoming_fixtures_data"
   ]
  },
  {
   "cell_type": "code",
   "execution_count": 177,
   "metadata": {},
   "outputs": [],
   "source": [
    "#player_details_fixtures_df = pd.DataFrame(player_details[\"fixtures\"])\n",
    "#player_details_history_df = pd.DataFrame(player_details[\"history\"])\n",
    "#player_details_history_past_df = pd.DataFrame(player_details[\"history_past\"])"
   ]
  },
  {
   "cell_type": "code",
   "execution_count": 178,
   "metadata": {},
   "outputs": [],
   "source": [
    "#player_details_fixtures_df.columns"
   ]
  },
  {
   "cell_type": "code",
   "execution_count": 179,
   "metadata": {},
   "outputs": [],
   "source": [
    "#player_details_history_df.columns"
   ]
  },
  {
   "cell_type": "code",
   "execution_count": 180,
   "metadata": {},
   "outputs": [],
   "source": [
    "#player_details_history_past_df.columns"
   ]
  },
  {
   "cell_type": "markdown",
   "metadata": {},
   "source": [
    "# Backfill player stats for each game week"
   ]
  },
  {
   "cell_type": "markdown",
   "metadata": {},
   "source": [
    "### Init vars"
   ]
  },
  {
   "cell_type": "code",
   "execution_count": 181,
   "metadata": {},
   "outputs": [],
   "source": [
    "gameweek = 1\n",
    "all_gameweek_data = []"
   ]
  },
  {
   "cell_type": "markdown",
   "metadata": {},
   "source": [
    "### Loop through each gameweek and fetch player stats\n",
    "\n",
    "### Finally concat into single dataframe"
   ]
  },
  {
   "cell_type": "code",
   "execution_count": 182,
   "metadata": {},
   "outputs": [
    {
     "name": "stdout",
     "output_type": "stream",
     "text": [
      "Fetched data for gameweek 1\n",
      "Fetched data for gameweek 2\n",
      "Fetched data for gameweek 3\n",
      "Fetched data for gameweek 4\n",
      "Fetched data for gameweek 5\n",
      "Fetched data for gameweek 6\n",
      "Fetched data for gameweek 7\n",
      "Fetched data for gameweek 8\n",
      "Fetched data for gameweek 9\n",
      "Fetched data for gameweek 10\n",
      "Fetched data for gameweek 11\n",
      "Fetched data for gameweek 12\n",
      "Fetched data for gameweek 13\n",
      "Fetched data for gameweek 14\n",
      "Fetched data for gameweek 15\n",
      "Fetched data for gameweek 16\n",
      "Fetched data for gameweek 17\n",
      "Fetched data for gameweek 18\n",
      "Fetched data for gameweek 19\n",
      "No more data available after gameweek 19\n",
      "All gameweek data fetched and combined.\n"
     ]
    }
   ],
   "source": [
    "while True:\n",
    "    player_stats_gw_url_formatted = player_stats_gw_url.format(gw=gameweek)\n",
    "    player_stats = requests.get(player_stats_gw_url_formatted).json()\n",
    "\n",
    "    if len(player_stats[\"elements\"]) == 0 or gameweek > 19:\n",
    "        print(f\"No more data available after gameweek {gameweek - 1}\")\n",
    "        break\n",
    "\n",
    "    player_stats_gw_df = pd.DataFrame(player_stats[\"elements\"]).drop(columns=[\"explain\", \"modified\"])\n",
    "    player_stats_gw_df = pd.concat(\n",
    "        [player_stats_gw_df.drop(columns=[\"stats\"]), player_stats_gw_df[\"stats\"].apply(pd.Series)], \n",
    "        axis=1\n",
    "    )\n",
    "    \n",
    "    player_stats_gw_df[\"gameweek\"] = gameweek\n",
    "    \n",
    "    all_gameweek_data.append(player_stats_gw_df)\n",
    "    \n",
    "    print(f\"Fetched data for gameweek {gameweek}\")\n",
    "    \n",
    "    gameweek += 1\n",
    "\n",
    "all_gameweeks_df = pd.concat(all_gameweek_data, ignore_index=True)\n",
    "\n",
    "print(\"All gameweek data fetched and combined.\")"
   ]
  },
  {
   "cell_type": "markdown",
   "metadata": {},
   "source": [
    "## "
   ]
  },
  {
   "cell_type": "code",
   "execution_count": 183,
   "metadata": {},
   "outputs": [],
   "source": [
    "with open ('./state/prev_gameweek.txt', 'w') as file:\n",
    "    file.write(str(gameweek-1))"
   ]
  },
  {
   "cell_type": "code",
   "execution_count": 184,
   "metadata": {},
   "outputs": [
    {
     "data": {
      "text/html": [
       "<div>\n",
       "<style scoped>\n",
       "    .dataframe tbody tr th:only-of-type {\n",
       "        vertical-align: middle;\n",
       "    }\n",
       "\n",
       "    .dataframe tbody tr th {\n",
       "        vertical-align: top;\n",
       "    }\n",
       "\n",
       "    .dataframe thead th {\n",
       "        text-align: right;\n",
       "    }\n",
       "</style>\n",
       "<table border=\"1\" class=\"dataframe\">\n",
       "  <thead>\n",
       "    <tr style=\"text-align: right;\">\n",
       "      <th></th>\n",
       "      <th>id</th>\n",
       "      <th>minutes</th>\n",
       "      <th>goals_scored</th>\n",
       "      <th>assists</th>\n",
       "      <th>clean_sheets</th>\n",
       "      <th>goals_conceded</th>\n",
       "      <th>own_goals</th>\n",
       "      <th>penalties_saved</th>\n",
       "      <th>penalties_missed</th>\n",
       "      <th>yellow_cards</th>\n",
       "      <th>...</th>\n",
       "      <th>threat</th>\n",
       "      <th>ict_index</th>\n",
       "      <th>starts</th>\n",
       "      <th>expected_goals</th>\n",
       "      <th>expected_assists</th>\n",
       "      <th>expected_goal_involvements</th>\n",
       "      <th>expected_goals_conceded</th>\n",
       "      <th>total_points</th>\n",
       "      <th>in_dreamteam</th>\n",
       "      <th>gameweek</th>\n",
       "    </tr>\n",
       "  </thead>\n",
       "  <tbody>\n",
       "    <tr>\n",
       "      <th>0</th>\n",
       "      <td>1</td>\n",
       "      <td>0</td>\n",
       "      <td>0</td>\n",
       "      <td>0</td>\n",
       "      <td>0</td>\n",
       "      <td>0</td>\n",
       "      <td>0</td>\n",
       "      <td>0</td>\n",
       "      <td>0</td>\n",
       "      <td>0</td>\n",
       "      <td>...</td>\n",
       "      <td>0.0</td>\n",
       "      <td>0.0</td>\n",
       "      <td>0</td>\n",
       "      <td>0.00</td>\n",
       "      <td>0.00</td>\n",
       "      <td>0.00</td>\n",
       "      <td>0.00</td>\n",
       "      <td>0</td>\n",
       "      <td>False</td>\n",
       "      <td>1</td>\n",
       "    </tr>\n",
       "    <tr>\n",
       "      <th>1</th>\n",
       "      <td>2</td>\n",
       "      <td>5</td>\n",
       "      <td>0</td>\n",
       "      <td>0</td>\n",
       "      <td>0</td>\n",
       "      <td>0</td>\n",
       "      <td>0</td>\n",
       "      <td>0</td>\n",
       "      <td>0</td>\n",
       "      <td>1</td>\n",
       "      <td>...</td>\n",
       "      <td>0.0</td>\n",
       "      <td>0.1</td>\n",
       "      <td>0</td>\n",
       "      <td>0.00</td>\n",
       "      <td>0.00</td>\n",
       "      <td>0.00</td>\n",
       "      <td>0.15</td>\n",
       "      <td>0</td>\n",
       "      <td>False</td>\n",
       "      <td>1</td>\n",
       "    </tr>\n",
       "    <tr>\n",
       "      <th>2</th>\n",
       "      <td>3</td>\n",
       "      <td>90</td>\n",
       "      <td>0</td>\n",
       "      <td>0</td>\n",
       "      <td>1</td>\n",
       "      <td>0</td>\n",
       "      <td>0</td>\n",
       "      <td>0</td>\n",
       "      <td>0</td>\n",
       "      <td>0</td>\n",
       "      <td>...</td>\n",
       "      <td>8.0</td>\n",
       "      <td>2.3</td>\n",
       "      <td>1</td>\n",
       "      <td>0.12</td>\n",
       "      <td>0.02</td>\n",
       "      <td>0.14</td>\n",
       "      <td>0.47</td>\n",
       "      <td>6</td>\n",
       "      <td>False</td>\n",
       "      <td>1</td>\n",
       "    </tr>\n",
       "    <tr>\n",
       "      <th>3</th>\n",
       "      <td>4</td>\n",
       "      <td>90</td>\n",
       "      <td>1</td>\n",
       "      <td>1</td>\n",
       "      <td>1</td>\n",
       "      <td>0</td>\n",
       "      <td>0</td>\n",
       "      <td>0</td>\n",
       "      <td>0</td>\n",
       "      <td>0</td>\n",
       "      <td>...</td>\n",
       "      <td>46.0</td>\n",
       "      <td>12.5</td>\n",
       "      <td>1</td>\n",
       "      <td>0.45</td>\n",
       "      <td>0.04</td>\n",
       "      <td>0.49</td>\n",
       "      <td>0.47</td>\n",
       "      <td>12</td>\n",
       "      <td>True</td>\n",
       "      <td>1</td>\n",
       "    </tr>\n",
       "    <tr>\n",
       "      <th>4</th>\n",
       "      <td>5</td>\n",
       "      <td>0</td>\n",
       "      <td>0</td>\n",
       "      <td>0</td>\n",
       "      <td>0</td>\n",
       "      <td>0</td>\n",
       "      <td>0</td>\n",
       "      <td>0</td>\n",
       "      <td>0</td>\n",
       "      <td>0</td>\n",
       "      <td>...</td>\n",
       "      <td>0.0</td>\n",
       "      <td>0.0</td>\n",
       "      <td>0</td>\n",
       "      <td>0.00</td>\n",
       "      <td>0.00</td>\n",
       "      <td>0.00</td>\n",
       "      <td>0.00</td>\n",
       "      <td>0</td>\n",
       "      <td>False</td>\n",
       "      <td>1</td>\n",
       "    </tr>\n",
       "  </tbody>\n",
       "</table>\n",
       "<p>5 rows × 26 columns</p>\n",
       "</div>"
      ],
      "text/plain": [
       "   id  minutes  goals_scored  assists  clean_sheets  goals_conceded  \\\n",
       "0   1        0             0        0             0               0   \n",
       "1   2        5             0        0             0               0   \n",
       "2   3       90             0        0             1               0   \n",
       "3   4       90             1        1             1               0   \n",
       "4   5        0             0        0             0               0   \n",
       "\n",
       "   own_goals  penalties_saved  penalties_missed  yellow_cards  ...  threat  \\\n",
       "0          0                0                 0             0  ...     0.0   \n",
       "1          0                0                 0             1  ...     0.0   \n",
       "2          0                0                 0             0  ...     8.0   \n",
       "3          0                0                 0             0  ...    46.0   \n",
       "4          0                0                 0             0  ...     0.0   \n",
       "\n",
       "   ict_index  starts  expected_goals expected_assists  \\\n",
       "0        0.0       0            0.00             0.00   \n",
       "1        0.1       0            0.00             0.00   \n",
       "2        2.3       1            0.12             0.02   \n",
       "3       12.5       1            0.45             0.04   \n",
       "4        0.0       0            0.00             0.00   \n",
       "\n",
       "  expected_goal_involvements expected_goals_conceded total_points  \\\n",
       "0                       0.00                    0.00            0   \n",
       "1                       0.00                    0.15            0   \n",
       "2                       0.14                    0.47            6   \n",
       "3                       0.49                    0.47           12   \n",
       "4                       0.00                    0.00            0   \n",
       "\n",
       "   in_dreamteam gameweek  \n",
       "0         False        1  \n",
       "1         False        1  \n",
       "2         False        1  \n",
       "3          True        1  \n",
       "4         False        1  \n",
       "\n",
       "[5 rows x 26 columns]"
      ]
     },
     "execution_count": 184,
     "metadata": {},
     "output_type": "execute_result"
    }
   ],
   "source": [
    "all_gameweeks_df.head()"
   ]
  },
  {
   "cell_type": "code",
   "execution_count": 185,
   "metadata": {},
   "outputs": [],
   "source": [
    "lagged_features = ['minutes', 'goals_scored', 'assists', 'clean_sheets',\n",
    "                   'goals_conceded', 'own_goals', 'penalties_saved',\n",
    "                   'penalties_missed', 'yellow_cards', 'red_cards', 'saves',\n",
    "                   'bonus', 'bps', 'influence', 'creativity', 'threat',\n",
    "                   'ict_index', 'starts', 'expected_goals', 'expected_assists',\n",
    "                   'expected_goal_involvements', 'expected_goals_conceded',\n",
    "                   'in_dreamteam']\n",
    "\n",
    "for col in lagged_features:\n",
    "    all_gameweeks_df[f'prev_{col}'] = all_gameweeks_df.groupby('id')[col].shift(1)\n",
    "\n",
    "all_gameweeks_df.drop(columns=lagged_features, inplace=True)\n",
    "\n",
    "final_data = all_gameweeks_df.dropna(subset=[f'prev_{col}' for col in lagged_features] + ['total_points'])"
   ]
  },
  {
   "cell_type": "code",
   "execution_count": 186,
   "metadata": {},
   "outputs": [
    {
     "data": {
      "text/html": [
       "<div>\n",
       "<style scoped>\n",
       "    .dataframe tbody tr th:only-of-type {\n",
       "        vertical-align: middle;\n",
       "    }\n",
       "\n",
       "    .dataframe tbody tr th {\n",
       "        vertical-align: top;\n",
       "    }\n",
       "\n",
       "    .dataframe thead th {\n",
       "        text-align: right;\n",
       "    }\n",
       "</style>\n",
       "<table border=\"1\" class=\"dataframe\">\n",
       "  <thead>\n",
       "    <tr style=\"text-align: right;\">\n",
       "      <th></th>\n",
       "      <th>id</th>\n",
       "      <th>total_points</th>\n",
       "      <th>gameweek</th>\n",
       "      <th>prev_minutes</th>\n",
       "      <th>prev_goals_scored</th>\n",
       "      <th>prev_assists</th>\n",
       "      <th>prev_clean_sheets</th>\n",
       "      <th>prev_goals_conceded</th>\n",
       "      <th>prev_own_goals</th>\n",
       "      <th>prev_penalties_saved</th>\n",
       "      <th>...</th>\n",
       "      <th>prev_influence</th>\n",
       "      <th>prev_creativity</th>\n",
       "      <th>prev_threat</th>\n",
       "      <th>prev_ict_index</th>\n",
       "      <th>prev_starts</th>\n",
       "      <th>prev_expected_goals</th>\n",
       "      <th>prev_expected_assists</th>\n",
       "      <th>prev_expected_goal_involvements</th>\n",
       "      <th>prev_expected_goals_conceded</th>\n",
       "      <th>prev_in_dreamteam</th>\n",
       "    </tr>\n",
       "  </thead>\n",
       "  <tbody>\n",
       "    <tr>\n",
       "      <th>616</th>\n",
       "      <td>1</td>\n",
       "      <td>0</td>\n",
       "      <td>2</td>\n",
       "      <td>0.0</td>\n",
       "      <td>0.0</td>\n",
       "      <td>0.0</td>\n",
       "      <td>0.0</td>\n",
       "      <td>0.0</td>\n",
       "      <td>0.0</td>\n",
       "      <td>0.0</td>\n",
       "      <td>...</td>\n",
       "      <td>0.0</td>\n",
       "      <td>0.0</td>\n",
       "      <td>0.0</td>\n",
       "      <td>0.0</td>\n",
       "      <td>0.0</td>\n",
       "      <td>0.00</td>\n",
       "      <td>0.00</td>\n",
       "      <td>0.00</td>\n",
       "      <td>0.00</td>\n",
       "      <td>False</td>\n",
       "    </tr>\n",
       "    <tr>\n",
       "      <th>617</th>\n",
       "      <td>2</td>\n",
       "      <td>0</td>\n",
       "      <td>2</td>\n",
       "      <td>5.0</td>\n",
       "      <td>0.0</td>\n",
       "      <td>0.0</td>\n",
       "      <td>0.0</td>\n",
       "      <td>0.0</td>\n",
       "      <td>0.0</td>\n",
       "      <td>0.0</td>\n",
       "      <td>...</td>\n",
       "      <td>0.2</td>\n",
       "      <td>0.8</td>\n",
       "      <td>0.0</td>\n",
       "      <td>0.1</td>\n",
       "      <td>0.0</td>\n",
       "      <td>0.00</td>\n",
       "      <td>0.00</td>\n",
       "      <td>0.00</td>\n",
       "      <td>0.15</td>\n",
       "      <td>False</td>\n",
       "    </tr>\n",
       "    <tr>\n",
       "      <th>618</th>\n",
       "      <td>3</td>\n",
       "      <td>6</td>\n",
       "      <td>2</td>\n",
       "      <td>90.0</td>\n",
       "      <td>0.0</td>\n",
       "      <td>0.0</td>\n",
       "      <td>1.0</td>\n",
       "      <td>0.0</td>\n",
       "      <td>0.0</td>\n",
       "      <td>0.0</td>\n",
       "      <td>...</td>\n",
       "      <td>13.8</td>\n",
       "      <td>1.4</td>\n",
       "      <td>8.0</td>\n",
       "      <td>2.3</td>\n",
       "      <td>1.0</td>\n",
       "      <td>0.12</td>\n",
       "      <td>0.02</td>\n",
       "      <td>0.14</td>\n",
       "      <td>0.47</td>\n",
       "      <td>False</td>\n",
       "    </tr>\n",
       "    <tr>\n",
       "      <th>619</th>\n",
       "      <td>4</td>\n",
       "      <td>2</td>\n",
       "      <td>2</td>\n",
       "      <td>90.0</td>\n",
       "      <td>1.0</td>\n",
       "      <td>1.0</td>\n",
       "      <td>1.0</td>\n",
       "      <td>0.0</td>\n",
       "      <td>0.0</td>\n",
       "      <td>0.0</td>\n",
       "      <td>...</td>\n",
       "      <td>54.8</td>\n",
       "      <td>24.1</td>\n",
       "      <td>46.0</td>\n",
       "      <td>12.5</td>\n",
       "      <td>1.0</td>\n",
       "      <td>0.45</td>\n",
       "      <td>0.04</td>\n",
       "      <td>0.49</td>\n",
       "      <td>0.47</td>\n",
       "      <td>True</td>\n",
       "    </tr>\n",
       "    <tr>\n",
       "      <th>620</th>\n",
       "      <td>5</td>\n",
       "      <td>0</td>\n",
       "      <td>2</td>\n",
       "      <td>0.0</td>\n",
       "      <td>0.0</td>\n",
       "      <td>0.0</td>\n",
       "      <td>0.0</td>\n",
       "      <td>0.0</td>\n",
       "      <td>0.0</td>\n",
       "      <td>0.0</td>\n",
       "      <td>...</td>\n",
       "      <td>0.0</td>\n",
       "      <td>0.0</td>\n",
       "      <td>0.0</td>\n",
       "      <td>0.0</td>\n",
       "      <td>0.0</td>\n",
       "      <td>0.00</td>\n",
       "      <td>0.00</td>\n",
       "      <td>0.00</td>\n",
       "      <td>0.00</td>\n",
       "      <td>False</td>\n",
       "    </tr>\n",
       "  </tbody>\n",
       "</table>\n",
       "<p>5 rows × 26 columns</p>\n",
       "</div>"
      ],
      "text/plain": [
       "     id  total_points  gameweek  prev_minutes  prev_goals_scored  \\\n",
       "616   1             0         2           0.0                0.0   \n",
       "617   2             0         2           5.0                0.0   \n",
       "618   3             6         2          90.0                0.0   \n",
       "619   4             2         2          90.0                1.0   \n",
       "620   5             0         2           0.0                0.0   \n",
       "\n",
       "     prev_assists  prev_clean_sheets  prev_goals_conceded  prev_own_goals  \\\n",
       "616           0.0                0.0                  0.0             0.0   \n",
       "617           0.0                0.0                  0.0             0.0   \n",
       "618           0.0                1.0                  0.0             0.0   \n",
       "619           1.0                1.0                  0.0             0.0   \n",
       "620           0.0                0.0                  0.0             0.0   \n",
       "\n",
       "     prev_penalties_saved  ...  prev_influence  prev_creativity  prev_threat  \\\n",
       "616                   0.0  ...             0.0              0.0          0.0   \n",
       "617                   0.0  ...             0.2              0.8          0.0   \n",
       "618                   0.0  ...            13.8              1.4          8.0   \n",
       "619                   0.0  ...            54.8             24.1         46.0   \n",
       "620                   0.0  ...             0.0              0.0          0.0   \n",
       "\n",
       "     prev_ict_index  prev_starts  prev_expected_goals prev_expected_assists  \\\n",
       "616             0.0          0.0                 0.00                  0.00   \n",
       "617             0.1          0.0                 0.00                  0.00   \n",
       "618             2.3          1.0                 0.12                  0.02   \n",
       "619            12.5          1.0                 0.45                  0.04   \n",
       "620             0.0          0.0                 0.00                  0.00   \n",
       "\n",
       "    prev_expected_goal_involvements prev_expected_goals_conceded  \\\n",
       "616                            0.00                         0.00   \n",
       "617                            0.00                         0.15   \n",
       "618                            0.14                         0.47   \n",
       "619                            0.49                         0.47   \n",
       "620                            0.00                         0.00   \n",
       "\n",
       "    prev_in_dreamteam  \n",
       "616             False  \n",
       "617             False  \n",
       "618             False  \n",
       "619              True  \n",
       "620             False  \n",
       "\n",
       "[5 rows x 26 columns]"
      ]
     },
     "execution_count": 186,
     "metadata": {},
     "output_type": "execute_result"
    }
   ],
   "source": [
    "final_data.head()"
   ]
  },
  {
   "cell_type": "code",
   "execution_count": 187,
   "metadata": {},
   "outputs": [],
   "source": [
    "final_data = final_data.astype({col: 'float64' for col in final_data.select_dtypes(include='object').columns})"
   ]
  },
  {
   "cell_type": "code",
   "execution_count": 188,
   "metadata": {},
   "outputs": [
    {
     "name": "stdout",
     "output_type": "stream",
     "text": [
      "<class 'pandas.core.frame.DataFrame'>\n",
      "Index: 12097 entries, 616 to 12801\n",
      "Data columns (total 26 columns):\n",
      " #   Column                           Non-Null Count  Dtype  \n",
      "---  ------                           --------------  -----  \n",
      " 0   id                               12097 non-null  int64  \n",
      " 1   total_points                     12097 non-null  int64  \n",
      " 2   gameweek                         12097 non-null  int64  \n",
      " 3   prev_minutes                     12097 non-null  float64\n",
      " 4   prev_goals_scored                12097 non-null  float64\n",
      " 5   prev_assists                     12097 non-null  float64\n",
      " 6   prev_clean_sheets                12097 non-null  float64\n",
      " 7   prev_goals_conceded              12097 non-null  float64\n",
      " 8   prev_own_goals                   12097 non-null  float64\n",
      " 9   prev_penalties_saved             12097 non-null  float64\n",
      " 10  prev_penalties_missed            12097 non-null  float64\n",
      " 11  prev_yellow_cards                12097 non-null  float64\n",
      " 12  prev_red_cards                   12097 non-null  float64\n",
      " 13  prev_saves                       12097 non-null  float64\n",
      " 14  prev_bonus                       12097 non-null  float64\n",
      " 15  prev_bps                         12097 non-null  float64\n",
      " 16  prev_influence                   12097 non-null  float64\n",
      " 17  prev_creativity                  12097 non-null  float64\n",
      " 18  prev_threat                      12097 non-null  float64\n",
      " 19  prev_ict_index                   12097 non-null  float64\n",
      " 20  prev_starts                      12097 non-null  float64\n",
      " 21  prev_expected_goals              12097 non-null  float64\n",
      " 22  prev_expected_assists            12097 non-null  float64\n",
      " 23  prev_expected_goal_involvements  12097 non-null  float64\n",
      " 24  prev_expected_goals_conceded     12097 non-null  float64\n",
      " 25  prev_in_dreamteam                12097 non-null  float64\n",
      "dtypes: float64(23), int64(3)\n",
      "memory usage: 2.5 MB\n"
     ]
    }
   ],
   "source": [
    "final_data.info()"
   ]
  },
  {
   "cell_type": "code",
   "execution_count": 189,
   "metadata": {},
   "outputs": [],
   "source": [
    "final_data.dropna(inplace=True)"
   ]
  },
  {
   "cell_type": "code",
   "execution_count": 190,
   "metadata": {},
   "outputs": [],
   "source": [
    "fs = project.get_feature_store() "
   ]
  },
  {
   "cell_type": "code",
   "execution_count": 191,
   "metadata": {},
   "outputs": [],
   "source": [
    "player_fg = fs.get_or_create_feature_group(\n",
    "    name=\"player_features\",\n",
    "    description=\"Player data for the Fantasy Premier League\",\n",
    "    primary_key=[\"id\", \"gameweek\"],\n",
    "    version=1,\n",
    ")"
   ]
  },
  {
   "cell_type": "code",
   "execution_count": 192,
   "metadata": {},
   "outputs": [
    {
     "name": "stdout",
     "output_type": "stream",
     "text": [
      "Feature Group created successfully, explore it at \n",
      "https://c.app.hopsworks.ai:443/p/1159321/fs/1150024/fg/1393552\n"
     ]
    },
    {
     "name": "stderr",
     "output_type": "stream",
     "text": [
      "Uploading Dataframe: 100.00% |██████████| Rows 12097/12097 | Elapsed Time: 00:01 | Remaining Time: 00:00\n"
     ]
    },
    {
     "name": "stdout",
     "output_type": "stream",
     "text": [
      "Launching job: player_features_1_offline_fg_materialization\n",
      "Job started successfully, you can follow the progress at \n",
      "https://c.app.hopsworks.ai:443/p/1159321/jobs/named/player_features_1_offline_fg_materialization/executions\n"
     ]
    },
    {
     "data": {
      "text/plain": [
       "(Job('player_features_1_offline_fg_materialization', 'SPARK'), None)"
      ]
     },
     "execution_count": 192,
     "metadata": {},
     "output_type": "execute_result"
    }
   ],
   "source": [
    "player_fg.insert(final_data)"
   ]
  },
  {
   "cell_type": "code",
   "execution_count": 193,
   "metadata": {},
   "outputs": [
    {
     "data": {
      "text/plain": [
       "<hsfs.feature_group.FeatureGroup at 0x16b3d96d0>"
      ]
     },
     "execution_count": 193,
     "metadata": {},
     "output_type": "execute_result"
    }
   ],
   "source": [
    "player_fg.update_feature_description(\"id\", \"Player ID\")\n",
    "player_fg.update_feature_description(\"gameweek\", \"Gameweek\")\n",
    "player_fg.update_feature_description(\"total_points\", \"Total points of the player in the gameweek (label)\")\n",
    "player_fg.update_feature_description(\"prev_minutes\", \"Played minutes in the previous gameweek\")\n",
    "player_fg.update_feature_description(\"prev_goals_scored\", \"Goals scored in the previous gameweek\")\n",
    "player_fg.update_feature_description(\"prev_assists\", \"Assists in the previous gameweek\")\n",
    "player_fg.update_feature_description(\"prev_clean_sheets\", \"Clean sheets in the previous gameweek\")\n",
    "player_fg.update_feature_description(\"prev_goals_conceded\", \"Goals conceded in the previous gameweek\")\n",
    "player_fg.update_feature_description(\"prev_own_goals\", \"Own goals in the previous gameweek\")\n",
    "player_fg.update_feature_description(\"prev_penalties_saved\", \"Penalties saved in the previous gameweek\")\n",
    "player_fg.update_feature_description(\"prev_penalties_missed\", \"Penalties missed in the previous gameweek\")\n",
    "player_fg.update_feature_description(\"prev_yellow_cards\", \"Yellow cards in the previous gameweek\")\n",
    "player_fg.update_feature_description(\"prev_red_cards\", \"Red cards in the previous gameweek\")\n",
    "player_fg.update_feature_description(\"prev_saves\", \"Saves in the previous gameweek\")\n",
    "player_fg.update_feature_description(\"prev_bonus\", \"Bonus points in the previous gameweek\")\n",
    "player_fg.update_feature_description(\"prev_bps\", \"Bonus points system in the previous gameweek\")\n",
    "player_fg.update_feature_description(\"prev_influence\", \"Influence in the previous gameweek\")\n",
    "player_fg.update_feature_description(\"prev_creativity\", \"Creativity in the previous gameweek\")\n",
    "player_fg.update_feature_description(\"prev_threat\", \"Threat in the previous gameweek\")\n",
    "player_fg.update_feature_description(\"prev_ict_index\", \"ICT index in the previous gameweek\")\n",
    "player_fg.update_feature_description(\"prev_starts\", \"Player started in the previous gameweek\")\n",
    "player_fg.update_feature_description(\"prev_expected_goals\", \"Expected goals in the previous gameweek\")\n",
    "player_fg.update_feature_description(\"prev_expected_assists\", \"Expected assists in the previous gameweek\")\n",
    "player_fg.update_feature_description(\"prev_expected_goal_involvements\", \"Expected goal involvements in the previous gameweek\")\n",
    "player_fg.update_feature_description(\"prev_expected_goals_conceded\", \"Expected goals conceded in the previous gameweek\")\n",
    "player_fg.update_feature_description(\"prev_in_dreamteam\", \"Player was in the dreamteam in the previous gameweek\")"
   ]
  }
 ],
 "metadata": {
  "kernelspec": {
   "display_name": "base",
   "language": "python",
   "name": "python3"
  },
  "language_info": {
   "codemirror_mode": {
    "name": "ipython",
    "version": 3
   },
   "file_extension": ".py",
   "mimetype": "text/x-python",
   "name": "python",
   "nbconvert_exporter": "python",
   "pygments_lexer": "ipython3",
   "version": "3.11.0"
  }
 },
 "nbformat": 4,
 "nbformat_minor": 2
}
