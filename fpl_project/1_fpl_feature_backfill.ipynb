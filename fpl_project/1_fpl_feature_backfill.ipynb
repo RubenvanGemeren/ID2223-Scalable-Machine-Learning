{
 "cells": [
  {
   "cell_type": "markdown",
   "metadata": {},
   "source": [
    "# Step 1 – Backfill"
   ]
  },
  {
   "cell_type": "markdown",
   "metadata": {},
   "source": [
    "### Setting up Hopsworks"
   ]
  },
  {
   "cell_type": "code",
   "execution_count": 185,
   "metadata": {},
   "outputs": [],
   "source": [
    "import hopsworks\n",
    "import os\n",
    "import datetime"
   ]
  },
  {
   "cell_type": "code",
   "execution_count": null,
   "metadata": {},
   "outputs": [],
   "source": [
    "try:\n",
    "    with open('./hopsworks/hopsworks-api-key.txt', 'r') as file:\n",
    "        os.environ[\"HOPSWORKS_API_KEY\"] = file.read().rstrip()\n",
    "except:\n",
    "    print(\"In production mode\")\n",
    "\n",
    "project = hopsworks.login()\n",
    "print(project.description)"
   ]
  },
  {
   "cell_type": "markdown",
   "metadata": {},
   "source": [
    "### Getting historical data"
   ]
  },
  {
   "cell_type": "code",
   "execution_count": 187,
   "metadata": {},
   "outputs": [],
   "source": [
    "import requests\n",
    "import pandas as pd\n",
    "import numpy as np\n",
    "from functions import util\n",
    "from importlib import reload"
   ]
  },
  {
   "cell_type": "code",
   "execution_count": 188,
   "metadata": {},
   "outputs": [],
   "source": [
    "bootstrap_url = \"https://fantasy.premierleague.com/api/bootstrap-static/\"\n",
    "fixtures_url = \"https://fantasy.premierleague.com/api/fixtures?futures=1\"\n",
    "player_details_url = \"https://fantasy.premierleague.com/api/element-summary/{element_id}\"\n",
    "player_stats_gw_url = \"https://fantasy.premierleague.com/api/event/{gw}/live/\""
   ]
  },
  {
   "cell_type": "markdown",
   "metadata": {},
   "source": [
    "## Fetching general data from https://fantasy.premierleague.com/api/bootstrap-static/\n",
    "\n",
    "### From the general data, we take genreal information about the players, teams, and events (gameweeks)."
   ]
  },
  {
   "cell_type": "code",
   "execution_count": 189,
   "metadata": {},
   "outputs": [],
   "source": [
    "general_data = requests.get(bootstrap_url).json()"
   ]
  },
  {
   "cell_type": "code",
   "execution_count": 190,
   "metadata": {},
   "outputs": [],
   "source": [
    "upcoming_fixtures_data = requests.get(fixtures_url).json()"
   ]
  },
  {
   "cell_type": "markdown",
   "metadata": {},
   "source": [
    "# Backfill player stats for each game week"
   ]
  },
  {
   "cell_type": "markdown",
   "metadata": {},
   "source": [
    "### Init vars"
   ]
  },
  {
   "cell_type": "code",
   "execution_count": 191,
   "metadata": {},
   "outputs": [],
   "source": [
    "gameweek = 1\n",
    "all_gameweek_data = []"
   ]
  },
  {
   "cell_type": "code",
   "execution_count": null,
   "metadata": {},
   "outputs": [],
   "source": [
    "upcoming_fixtures = pd.DataFrame(upcoming_fixtures_data)\n",
    "upcoming_fixtures.dropna(subset=[\"event\"], inplace=True)\n",
    "upcoming_fixtures"
   ]
  },
  {
   "cell_type": "code",
   "execution_count": null,
   "metadata": {},
   "outputs": [],
   "source": [
    "general_stats = pd.DataFrame(general_data[\"elements\"])\n",
    "general_stats"
   ]
  },
  {
   "cell_type": "markdown",
   "metadata": {},
   "source": [
    "### Loop through each gameweek and fetch player stats\n",
    "\n",
    "### Finally concat into single dataframe"
   ]
  },
  {
   "cell_type": "code",
   "execution_count": null,
   "metadata": {},
   "outputs": [],
   "source": [
    "general_stats[\"element_type\"]"
   ]
  },
  {
   "cell_type": "code",
   "execution_count": null,
   "metadata": {},
   "outputs": [],
   "source": [
    "while True:\n",
    "    player_stats_gw_url_formatted = player_stats_gw_url.format(gw=gameweek)\n",
    "    player_stats = requests.get(player_stats_gw_url_formatted).json()\n",
    "\n",
    "    # Get the current gameweek from the helper function\n",
    "    current_gameweek = util.get_gameweek_from_date(datetime.datetime.now())\n",
    "\n",
    "    # Only fetch data if there are elements in the response and the gameweek is not in the future\n",
    "    if len(player_stats[\"elements\"]) == 0 or gameweek > 18:\n",
    "        print(f\"No more data available after gameweek {gameweek - 1}\")\n",
    "        break\n",
    "\n",
    "    # Create a DataFrame from the player stats data\n",
    "    player_stats_gw_df = pd.DataFrame(player_stats[\"elements\"]).drop(columns=[\"explain\", \"modified\"])\n",
    "    player_stats_gw_df = pd.concat(\n",
    "        [player_stats_gw_df.drop(columns=[\"stats\"]), player_stats_gw_df[\"stats\"].apply(pd.Series)],\n",
    "        axis=1\n",
    "    )\n",
    "\n",
    "    player_stats_gw_df[\"gameweek\"] = gameweek\n",
    "\n",
    "    all_gameweek_data.append(player_stats_gw_df)\n",
    "\n",
    "    print(f\"Fetched data for gameweek {gameweek}\")\n",
    "\n",
    "    gameweek += 1\n",
    "\n",
    "\n",
    "all_gameweeks_df = pd.concat(all_gameweek_data, ignore_index=True)\n",
    "all_gameweeks_df.rename(columns={'total_points': 'points'}, inplace=True)\n",
    "\n",
    "to_drop = general_stats[general_stats[\"can_select\"] == False][\"id\"].tolist()\n",
    "\n",
    "all_gameweeks_df = all_gameweeks_df[~all_gameweeks_df[\"id\"].isin(to_drop)]\n",
    "\n",
    "print(\"All gameweek data fetched and combined.\")"
   ]
  },
  {
   "cell_type": "markdown",
   "metadata": {},
   "source": [
    "## "
   ]
  },
  {
   "cell_type": "code",
   "execution_count": null,
   "metadata": {},
   "outputs": [],
   "source": [
    "all_gameweeks_df.head()"
   ]
  },
  {
   "cell_type": "code",
   "execution_count": null,
   "metadata": {},
   "outputs": [],
   "source": [
    "# Collect player total points\n",
    "for i in range(1, len(all_gameweeks_df['id'].unique()) + 1):\n",
    "\n",
    "    # Get player details\n",
    "    player_details_url_formatted = player_details_url.format(element_id=i)\n",
    "    player_details = requests.get(player_details_url_formatted).json()\n",
    "\n",
    "    player_details_history_df = pd.DataFrame(player_details[\"history\"])\n",
    "    #player_details_fixtures_df = pd.DataFrame(player_details[\"fixtures\"])\n",
    "\n",
    "\n",
    "    total_points = 0\n",
    "\n",
    "    for _, row in player_details_history_df.iterrows():\n",
    "        # Find matching rows in all_gameweeks_df\n",
    "        condition = (all_gameweeks_df['id'] == i) & \\\n",
    "                    (all_gameweeks_df['gameweek'] == row['round'])\n",
    "\n",
    "        total_points += row['total_points']\n",
    "\n",
    "        all_gameweeks_df.loc[condition, 'total_points'] = total_points\n",
    "        all_gameweeks_df.loc[condition, 'selected'] = row['selected']\n",
    "        all_gameweeks_df.loc[condition, 'transfers_balance'] = row['transfers_balance']\n",
    "        all_gameweeks_df.loc[condition, 'value'] = row['value']\n",
    "        all_gameweeks_df.loc[condition, 'was_home'] = row['was_home']\n",
    "        all_gameweeks_df.loc[condition, 'opponent_team'] = row['opponent_team']"
   ]
  },
  {
   "cell_type": "code",
   "execution_count": 198,
   "metadata": {},
   "outputs": [],
   "source": [
    "lagged_features = ['minutes', 'goals_scored', 'assists', 'clean_sheets',\n",
    "                   'goals_conceded', 'own_goals', 'penalties_saved',\n",
    "                   'penalties_missed', 'yellow_cards', 'red_cards', 'saves',\n",
    "                   'bonus', 'bps', 'influence', 'creativity', 'threat',\n",
    "                   'ict_index', 'starts', 'expected_goals', 'expected_assists',\n",
    "                   'expected_goal_involvements', 'expected_goals_conceded',\n",
    "                   'in_dreamteam', 'total_points', 'selected', 'transfers_balance',\n",
    "                   'value', 'was_home', 'opponent_team']\n",
    "\n",
    "for col in lagged_features:\n",
    "    # Create a new column with the prefix 'prev_' containing the lagged values of the original column\n",
    "    all_gameweeks_df[f'prev_{col}'] = all_gameweeks_df.groupby('id')[col].shift(1)\n",
    "\n",
    "# Merge the general stats DataFrame with the all_gameweeks_df DataFrame\n",
    "all_gameweeks_df = all_gameweeks_df.merge(general_stats[[\"id\",\"element_type\"]], on=\"id\", how=\"left\")\n",
    "\n",
    "# Drop original columns\n",
    "# Remove the original columns from the DataFrame, keeping only the lagged features\n",
    "all_gameweeks_df.drop(columns=lagged_features, inplace=True)\n",
    "\n",
    "# Drop rows with missing values in lagged features or 'points'\n",
    "# Remove rows that have NaN values in any of the lagged feature columns or the 'points' column\n",
    "final_data = all_gameweeks_df.dropna(subset=[f'prev_{col}' for col in lagged_features] + ['points'])"
   ]
  },
  {
   "cell_type": "code",
   "execution_count": null,
   "metadata": {},
   "outputs": [],
   "source": [
    "final_data.head()"
   ]
  },
  {
   "cell_type": "code",
   "execution_count": 200,
   "metadata": {},
   "outputs": [],
   "source": [
    "final_data = final_data.astype({col: 'float64' for col in final_data.select_dtypes(include='object').columns})"
   ]
  },
  {
   "cell_type": "code",
   "execution_count": null,
   "metadata": {},
   "outputs": [],
   "source": [
    "final_data.info()"
   ]
  },
  {
   "cell_type": "code",
   "execution_count": 202,
   "metadata": {},
   "outputs": [],
   "source": [
    "final_data.dropna(inplace=True)"
   ]
  },
  {
   "cell_type": "code",
   "execution_count": 203,
   "metadata": {},
   "outputs": [],
   "source": [
    "fs = project.get_feature_store()"
   ]
  },
  {
   "cell_type": "code",
   "execution_count": 204,
   "metadata": {},
   "outputs": [],
   "source": [
    "player_fg = fs.get_or_create_feature_group(\n",
    "    name=\"player_features\",\n",
    "    description=\"Player data for the Fantasy Premier League\",\n",
    "    primary_key=[\"id\", \"gameweek\"],\n",
    "    version=1,\n",
    ")"
   ]
  },
  {
   "cell_type": "code",
   "execution_count": null,
   "metadata": {},
   "outputs": [],
   "source": [
    "player_fg.insert(final_data)"
   ]
  },
  {
   "cell_type": "code",
   "execution_count": null,
   "metadata": {},
   "outputs": [],
   "source": [
    "player_fg.update_feature_description(\"id\", \"Player ID\")\n",
    "player_fg.update_feature_description(\"gameweek\", \"Gameweek\")\n",
    "player_fg.update_feature_description(\"points\", \"Total points of the player in the gameweek (label)\")\n",
    "player_fg.update_feature_description(\"prev_total_points\", \"Total points accumulated by player up until the previous gameweek\")\n",
    "player_fg.update_feature_description(\"prev_minutes\", \"Played minutes in the previous gameweek\")\n",
    "player_fg.update_feature_description(\"prev_goals_scored\", \"Goals scored in the previous gameweek\")\n",
    "player_fg.update_feature_description(\"prev_assists\", \"Assists in the previous gameweek\")\n",
    "player_fg.update_feature_description(\"prev_clean_sheets\", \"Clean sheets in the previous gameweek\")\n",
    "player_fg.update_feature_description(\"prev_goals_conceded\", \"Goals conceded in the previous gameweek\")\n",
    "player_fg.update_feature_description(\"prev_own_goals\", \"Own goals in the previous gameweek\")\n",
    "player_fg.update_feature_description(\"prev_penalties_saved\", \"Penalties saved in the previous gameweek\")\n",
    "player_fg.update_feature_description(\"prev_penalties_missed\", \"Penalties missed in the previous gameweek\")\n",
    "player_fg.update_feature_description(\"prev_yellow_cards\", \"Yellow cards in the previous gameweek\")\n",
    "player_fg.update_feature_description(\"prev_red_cards\", \"Red cards in the previous gameweek\")\n",
    "player_fg.update_feature_description(\"prev_saves\", \"Saves in the previous gameweek\")\n",
    "player_fg.update_feature_description(\"prev_bonus\", \"Bonus points in the previous gameweek\")\n",
    "player_fg.update_feature_description(\"prev_bps\", \"Bonus points system in the previous gameweek\")\n",
    "player_fg.update_feature_description(\"prev_influence\", \"Influence in the previous gameweek\")\n",
    "player_fg.update_feature_description(\"prev_creativity\", \"Creativity in the previous gameweek\")\n",
    "player_fg.update_feature_description(\"prev_threat\", \"Threat in the previous gameweek\")\n",
    "player_fg.update_feature_description(\"prev_ict_index\", \"ICT index in the previous gameweek\")\n",
    "player_fg.update_feature_description(\"prev_starts\", \"Player started in the previous gameweek\")\n",
    "player_fg.update_feature_description(\"prev_expected_goals\", \"Expected goals in the previous gameweek\")\n",
    "player_fg.update_feature_description(\"prev_expected_assists\", \"Expected assists in the previous gameweek\")\n",
    "player_fg.update_feature_description(\"prev_expected_goal_involvements\", \"Expected goal involvements in the previous gameweek\")\n",
    "player_fg.update_feature_description(\"prev_expected_goals_conceded\", \"Expected goals conceded in the previous gameweek\")\n",
    "player_fg.update_feature_description(\"prev_selected\", \"Amount of players that selected the player in the previous gameweek\")\n",
    "player_fg.update_feature_description(\"prev_transfers_balance\", \"Sum of transfers in and out in the previous gameweek\")\n",
    "player_fg.update_feature_description(\"prev_value\", \"Value of the player up until the previous gameweek\")\n",
    "player_fg.update_feature_description(\"prev_was_home\", \"Whether the player played at home in the previous gameweek\")\n",
    "player_fg.update_feature_description(\"prev_opponent_team\", \"Opponent team in the previous gameweek\")\n",
    "player_fg.update_feature_description(\"element_type\", \"Player position\")"
   ]
  },
  {
   "cell_type": "code",
   "execution_count": null,
   "metadata": {},
   "outputs": [],
   "source": []
  }
 ],
 "metadata": {
  "kernelspec": {
   "display_name": "base",
   "language": "python",
   "name": "python3"
  },
  "language_info": {
   "codemirror_mode": {
    "name": "ipython",
    "version": 3
   },
   "file_extension": ".py",
   "mimetype": "text/x-python",
   "name": "python",
   "nbconvert_exporter": "python",
   "pygments_lexer": "ipython3",
   "version": "3.11.0"
  }
 },
 "nbformat": 4,
 "nbformat_minor": 2
}
