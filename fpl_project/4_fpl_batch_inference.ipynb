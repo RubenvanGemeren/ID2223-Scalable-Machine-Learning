{
 "cells": [
  {
   "cell_type": "markdown",
   "id": "f16b7819",
   "metadata": {},
   "source": [
    "# <span style=\"font-width:bold; font-size: 3rem; color:#1EB182;\"> **FPL player score** </span><span style=\"font-width:bold; font-size: 3rem; color:#333;\">- Part 04: Batch Inference</span>\n",
    "\n",
    "## 🗒️ This notebook is divided into the following sections:\n",
    "\n",
    "1. Download model and batch inference data\n",
    "2. Make predictions, combine predictions with static data\n",
    "3. Store predictions in a monitoring feature group"
   ]
  },
  {
   "cell_type": "markdown",
   "id": "49a84ee9",
   "metadata": {},
   "source": [
    "## <span style='color:#ff5f27'> 📝 Imports"
   ]
  },
  {
   "cell_type": "code",
   "execution_count": 174,
   "id": "1f430c88",
   "metadata": {},
   "outputs": [],
   "source": [
    "import datetime\n",
    "import pandas as pd\n",
    "from xgboost import XGBRegressor\n",
    "import hopsworks\n",
    "import json\n",
    "from functions import util\n",
    "import os\n",
    "from importlib import reload\n",
    "import requests"
   ]
  },
  {
   "cell_type": "code",
   "execution_count": null,
   "id": "85b9ec2e",
   "metadata": {},
   "outputs": [],
   "source": [
    "reload(util)\n",
    "\n",
    "print(util.get_gameweek_from_date(\"2025-1-4\"))"
   ]
  },
  {
   "cell_type": "code",
   "execution_count": null,
   "id": "bcfd27c1",
   "metadata": {},
   "outputs": [],
   "source": [
    "today = datetime.datetime.now() - datetime.timedelta(0)\n",
    "tomorrow = today + datetime.timedelta(days = 1)\n",
    "\n",
    "# Get the gameweek from the date\n",
    "gameweek = util.get_gameweek_from_date(str(today.date()))\n",
    "last_gameweek = gameweek - 1\n",
    "\n",
    "print(gameweek, last_gameweek)"
   ]
  },
  {
   "cell_type": "markdown",
   "id": "4e91e99d",
   "metadata": {},
   "source": [
    "## <span style=\"color:#ff5f27;\"> 📡 Connect to Hopsworks Feature Store </span>"
   ]
  },
  {
   "cell_type": "code",
   "execution_count": null,
   "id": "74a2c243",
   "metadata": {},
   "outputs": [],
   "source": [
    "try:\n",
    "    with open('./hopsworks/hopsworks-api-key.txt', 'r') as file:\n",
    "        os.environ[\"HOPSWORKS_API_KEY\"] = file.read().rstrip()\n",
    "except:\n",
    "    print(\"In production mode\")\n",
    "\n",
    "project = hopsworks.login()\n",
    "fs = project.get_feature_store()"
   ]
  },
  {
   "cell_type": "markdown",
   "id": "4cead441",
   "metadata": {},
   "source": [
    "## <span style=\"color:#ff5f27;\">🪝 Download the model from Model Registry</span>"
   ]
  },
  {
   "cell_type": "code",
   "execution_count": null,
   "id": "c6d70a2f",
   "metadata": {},
   "outputs": [],
   "source": [
    "mr = project.get_model_registry()\n",
    "\n",
    "retrieved_model = mr.get_model(\n",
    "    name=\"player_score_xgboost_model\",\n",
    ")\n",
    "\n",
    "# Download the saved model artifacts to a local directory\n",
    "saved_model_dir = retrieved_model.download()"
   ]
  },
  {
   "cell_type": "code",
   "execution_count": null,
   "id": "a6cf6c06",
   "metadata": {},
   "outputs": [],
   "source": [
    "# Loading the XGBoost regressor model and label encoder from the saved model directory\n",
    "# retrieved_xgboost_model = joblib.load(saved_model_dir + \"/xgboost_regressor.pkl\")\n",
    "retrieved_xgboost_model = XGBRegressor()\n",
    "\n",
    "retrieved_xgboost_model.load_model(saved_model_dir + \"/model.json\")\n",
    "\n",
    "# Displaying the retrieved XGBoost regressor model\n",
    "retrieved_xgboost_model"
   ]
  },
  {
   "cell_type": "code",
   "execution_count": null,
   "id": "ee4bcbe6",
   "metadata": {},
   "outputs": [],
   "source": [
    "bootstrap_url = \"https://fantasy.premierleague.com/api/bootstrap-static/\"\n",
    "general_info = requests.get(bootstrap_url).json()\n",
    "\n",
    "with open ('./state/prev_gameweek.txt', 'r') as file:\n",
    "    prev_gameweek = file.readline()\n",
    "\n",
    "prev_gameweek = next(\n",
    "    (gw for gw in general_info['events'] if gw['id'] == int(prev_gameweek)), None\n",
    ")\n",
    "prev_finished = prev_gameweek['finished']\n",
    "\n",
    "current_gameweek = next(\n",
    "    (gw for gw in general_info['events'] if gw['is_current']), None\n",
    ")\n",
    "print(current_gameweek)"
   ]
  },
  {
   "cell_type": "markdown",
   "id": "43ad941a",
   "metadata": {},
   "source": [
    "## <span style=\"color:#ff5f27;\">✨ Get Player Score Features From Previous Gameweek </span>\n",
    "\n"
   ]
  },
  {
   "cell_type": "code",
   "execution_count": null,
   "id": "aaacae3c",
   "metadata": {},
   "outputs": [],
   "source": [
    "print(prev_gameweek[\"id\"], current_gameweek[\"id\"])\n",
    "if prev_gameweek[\"id\"] != current_gameweek[\"id\"] and prev_finished:\n",
    "    players_fg = fs.get_feature_group(\n",
    "        name='player_features',\n",
    "        version=1,\n",
    "    )\n",
    "    players = players_fg.filter(players_fg.gameweek == gameweek).read()\n",
    "    players.head()"
   ]
  },
  {
   "cell_type": "markdown",
   "id": "804e4491",
   "metadata": {},
   "source": [
    "### <span style=\"color:#ff5f27;\">🤖 Making the predictions</span>"
   ]
  },
  {
   "cell_type": "code",
   "execution_count": 182,
   "id": "a503d682",
   "metadata": {},
   "outputs": [],
   "source": [
    "inputs = ['prev_minutes', 'prev_goals_scored', 'prev_assists',\n",
    "         'prev_clean_sheets', 'prev_goals_conceded', 'prev_own_goals',\n",
    "         'prev_penalties_saved', 'prev_penalties_missed', 'prev_yellow_cards',\n",
    "         'prev_red_cards', 'prev_saves', 'prev_bonus',\n",
    "         'prev_bps', 'prev_influence', 'prev_creativity',\n",
    "         'prev_threat', 'prev_ict_index', 'prev_starts',\n",
    "         'prev_expected_goals', 'prev_expected_assists', 'prev_expected_goal_involvements',\n",
    "         'prev_expected_goals_conceded', 'prev_in_dreamteam', 'prev_total_points',\n",
    "         'prev_selected', 'prev_transfers_balance', 'prev_value', 'prev_was_home']\n",
    "\n",
    "#for i in range(0, len(input_data)):\n",
    "#    output_data.at[i, 'predicted_score'] = retrieved_xgboost_model.predict(input_data.loc[i, inputs].values.reshape(1, -1))[0]\n",
    "\n",
    "if prev_gameweek[\"id\"] != current_gameweek[\"id\"] and prev_finished:\n",
    "    players['predicted_score'] = retrieved_xgboost_model.predict(players[inputs]).astype(\"float64\")\n",
    "    players.head()"
   ]
  },
  {
   "cell_type": "code",
   "execution_count": null,
   "id": "95d78ba2",
   "metadata": {},
   "outputs": [],
   "source": [
    "if prev_gameweek[\"id\"] != current_gameweek[\"id\"] and prev_finished:\n",
    "    players.info()"
   ]
  },
  {
   "cell_type": "markdown",
   "id": "d23e2b0a",
   "metadata": {},
   "source": [
    "### <span style=\"color:#ff5f27;\">🤖 Saving the predictions (for monitoring) to a Feature Group</span>"
   ]
  },
  {
   "cell_type": "markdown",
   "id": "6ff10c12",
   "metadata": {},
   "source": [
    "### Create Score Graph\n",
    "Draw a graph of the predictions with all the players as a PNG and save it to the github"
   ]
  },
  {
   "cell_type": "code",
   "execution_count": 184,
   "id": "9bb0f844",
   "metadata": {},
   "outputs": [],
   "source": [
    "# turned of to help with deployment, uncomment for testing or development\n",
    "# if prev_gameweek[\"id\"] != current_gameweek[\"id\"] and prev_finished:\n",
    "#     file_path = \"./player_score_model/images/predicted_scores.png\"\n",
    "#     plt = util.plot_player_score_forecast(\"FPL Player scores\", players, file_path)\n",
    "#     plt.show()"
   ]
  },
  {
   "cell_type": "code",
   "execution_count": 185,
   "id": "c418a791",
   "metadata": {},
   "outputs": [],
   "source": [
    "if prev_gameweek[\"id\"] != current_gameweek[\"id\"] and prev_finished:\n",
    "    # Get or create feature group\n",
    "    monitor_fg = fs.get_or_create_feature_group(\n",
    "        name='fpl_predictions',\n",
    "        description='FPL player score prediction monitoring',\n",
    "        version=1,\n",
    "        primary_key=['id', 'gameweek']\n",
    "    )"
   ]
  },
  {
   "cell_type": "code",
   "execution_count": 186,
   "id": "06840ca8",
   "metadata": {},
   "outputs": [],
   "source": [
    "if prev_gameweek[\"id\"] != current_gameweek[\"id\"] and prev_finished:\n",
    "    # Only keep the relevant columns\n",
    "    output_data = players[['id', 'points', 'gameweek', 'predicted_score']]\n",
    "\n",
    "    output_data.dtypes"
   ]
  },
  {
   "cell_type": "code",
   "execution_count": null,
   "id": "ee2854fc",
   "metadata": {},
   "outputs": [],
   "source": [
    "if prev_gameweek[\"id\"] != current_gameweek[\"id\"] and prev_finished:\n",
    "    # Add static data\n",
    "    for i in range(0, len(output_data)):\n",
    "        player_id = output_data.loc[i, 'id']\n",
    "\n",
    "        player_data = util.get_player_info(player_id,general_info)\n",
    "        for key in player_data:\n",
    "            output_data.at[i, key] = player_data[key]"
   ]
  },
  {
   "cell_type": "code",
   "execution_count": null,
   "id": "8992650a",
   "metadata": {},
   "outputs": [],
   "source": [
    "if prev_gameweek[\"id\"] != current_gameweek[\"id\"] and prev_finished:\n",
    "    monitor_fg.insert(output_data)"
   ]
  },
  {
   "cell_type": "code",
   "execution_count": 189,
   "id": "b6f3149b",
   "metadata": {},
   "outputs": [],
   "source": [
    "if prev_gameweek[\"id\"] != current_gameweek[\"id\"] and prev_finished:\n",
    "    monitor_fg.update_feature_description(\"id\", \"Player ID\")\n",
    "    monitor_fg.update_feature_description(\"points\", \"Total points of the player in the gameweek (label)\")\n",
    "    monitor_fg.update_feature_description(\"gameweek\", \"Gameweek\")\n",
    "    monitor_fg.update_feature_description(\"predicted_score\", \"Predicted score of the player in the gameweek\")\n",
    "    monitor_fg.update_feature_description(\"first_name\", \"Player first name\")\n",
    "    monitor_fg.update_feature_description(\"second_name\", \"Player surname\")\n",
    "    monitor_fg.update_feature_description(\"team\", \"Player team\")\n",
    "    monitor_fg.update_feature_description(\"position\", \"Player position\")\n",
    "\n",
    "    # Update previous gameweek so we dont run inference again for the same gameweek\n",
    "    with open ('./state/prev_gameweek.txt', 'w') as file:\n",
    "        file.write(str(current_gameweek[\"id\"]))\n",
    "    \n",
    "    with open ('./state/prev_gameweek.txt', 'r') as file:\n",
    "        print(file.readline())\n",
    "    \n",
    "    "
   ]
  },
  {
   "cell_type": "markdown",
   "id": "c29eb549",
   "metadata": {},
   "source": [
    "---"
   ]
  }
 ],
 "metadata": {
  "kernelspec": {
   "display_name": "base",
   "language": "python",
   "name": "python3"
  },
  "language_info": {
   "codemirror_mode": {
    "name": "ipython",
    "version": 3
   },
   "file_extension": ".py",
   "mimetype": "text/x-python",
   "name": "python",
   "nbconvert_exporter": "python",
   "pygments_lexer": "ipython3",
   "version": "3.11.0"
  }
 },
 "nbformat": 4,
 "nbformat_minor": 5
}
