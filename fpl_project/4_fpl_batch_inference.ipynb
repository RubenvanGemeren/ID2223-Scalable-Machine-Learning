{
 "cells": [
  {
   "cell_type": "markdown",
   "id": "f16b7819",
   "metadata": {},
   "source": [
    "# <span style=\"font-width:bold; font-size: 3rem; color:#1EB182;\"> **Air Quality** </span><span style=\"font-width:bold; font-size: 3rem; color:#333;\">- Part 04: Batch Inference</span>\n",
    "\n",
    "## 🗒️ This notebook is divided into the following sections:\n",
    "\n",
    "1. Download model and batch inference data\n",
    "2. Make predictions, generate PNG for forecast\n",
    "3. Store predictions in a monitoring feature group adn generate PNG for hindcast"
   ]
  },
  {
   "cell_type": "markdown",
   "id": "49a84ee9",
   "metadata": {},
   "source": [
    "## <span style='color:#ff5f27'> 📝 Imports"
   ]
  },
  {
   "cell_type": "code",
   "execution_count": 29,
   "id": "1f430c88",
   "metadata": {},
   "outputs": [],
   "source": [
    "import datetime\n",
    "import pandas as pd\n",
    "from xgboost import XGBRegressor\n",
    "import hopsworks\n",
    "import json\n",
    "from functions import util\n",
    "import os\n",
    "from importlib import reload"
   ]
  },
  {
   "cell_type": "code",
   "execution_count": null,
   "id": "85b9ec2e",
   "metadata": {},
   "outputs": [],
   "source": [
    "reload(util)\n",
    "\n",
    "print(util.get_gameweek_from_date(\"2025-1-4\"))"
   ]
  },
  {
   "cell_type": "code",
   "execution_count": null,
   "id": "bcfd27c1",
   "metadata": {},
   "outputs": [],
   "source": [
    "today = datetime.datetime.now() - datetime.timedelta(0)\n",
    "tomorrow = today + datetime.timedelta(days = 1)\n",
    "\n",
    "# Get the gameweek from the date\n",
    "gameweek = util.get_gameweek_from_date(str(today.date()))\n",
    "last_gameweek = gameweek - 1\n",
    "\n",
    "gameweek\n",
    "last_gameweek"
   ]
  },
  {
   "cell_type": "markdown",
   "id": "4e91e99d",
   "metadata": {},
   "source": [
    "## <span style=\"color:#ff5f27;\"> 📡 Connect to Hopsworks Feature Store </span>"
   ]
  },
  {
   "cell_type": "code",
   "execution_count": null,
   "id": "74a2c243",
   "metadata": {},
   "outputs": [],
   "source": [
    "try:\n",
    "    with open('./hopsworks/hopsworks-api-key.txt', 'r') as file:\n",
    "        os.environ[\"HOPSWORKS_API_KEY\"] = file.read().rstrip()\n",
    "except:\n",
    "    print(\"In production mode\")\n",
    "\n",
    "project = hopsworks.login()\n",
    "fs = project.get_feature_store()"
   ]
  },
  {
   "cell_type": "markdown",
   "id": "4f138859",
   "metadata": {},
   "source": [
    "## <span style=\"color:#ff5f27;\"> ⚙️ Feature View Retrieval</span>\n"
   ]
  },
  {
   "cell_type": "code",
   "execution_count": null,
   "id": "114b8e87",
   "metadata": {},
   "outputs": [],
   "source": [
    "# Not used\n",
    "# feature_view = fs.get_feature_view(\n",
    "#     name='player_score_fv',\n",
    "#     version=1,\n",
    "# )"
   ]
  },
  {
   "cell_type": "markdown",
   "id": "4cead441",
   "metadata": {},
   "source": [
    "## <span style=\"color:#ff5f27;\">🪝 Download the model from Model Registry</span>"
   ]
  },
  {
   "cell_type": "code",
   "execution_count": null,
   "id": "c6d70a2f",
   "metadata": {},
   "outputs": [],
   "source": [
    "mr = project.get_model_registry()\n",
    "\n",
    "retrieved_model = mr.get_model(\n",
    "    name=\"player_score_xgboost_model\",\n",
    "    version=1,\n",
    ")\n",
    "\n",
    "# Download the saved model artifacts to a local directory\n",
    "saved_model_dir = retrieved_model.download()"
   ]
  },
  {
   "cell_type": "code",
   "execution_count": null,
   "id": "a6cf6c06",
   "metadata": {},
   "outputs": [],
   "source": [
    "# Loading the XGBoost regressor model and label encoder from the saved model directory\n",
    "# retrieved_xgboost_model = joblib.load(saved_model_dir + \"/xgboost_regressor.pkl\")\n",
    "retrieved_xgboost_model = XGBRegressor()\n",
    "\n",
    "retrieved_xgboost_model.load_model(saved_model_dir + \"/model.json\")\n",
    "\n",
    "# Displaying the retrieved XGBoost regressor model\n",
    "retrieved_xgboost_model"
   ]
  },
  {
   "cell_type": "markdown",
   "id": "43ad941a",
   "metadata": {},
   "source": [
    "## <span style=\"color:#ff5f27;\">✨ Get Player Score Features From Previous Gameweek </span>\n",
    "\n"
   ]
  },
  {
   "cell_type": "code",
   "execution_count": null,
   "id": "aaacae3c",
   "metadata": {},
   "outputs": [],
   "source": [
    "players_fg = fs.get_feature_group(\n",
    "    name='player_features',\n",
    "    version=1,\n",
    ")\n",
    "input_data = players_fg.filter(players_fg.gameweek == last_gameweek).read()\n",
    "output_data = players_fg.filter(players_fg.gameweek == gameweek).read()"
   ]
  },
  {
   "cell_type": "markdown",
   "id": "804e4491",
   "metadata": {},
   "source": [
    "### <span style=\"color:#ff5f27;\">🤖 Making the predictions</span>"
   ]
  },
  {
   "cell_type": "code",
   "execution_count": null,
   "id": "a503d682",
   "metadata": {},
   "outputs": [],
   "source": [
    "inputs = ['prev_minutes', 'prev_goals_scored', 'prev_assists',\n",
    "         'prev_clean_sheets', 'prev_goals_conceded', 'prev_own_goals',\n",
    "         'prev_penalties_saved', 'prev_penalties_missed', 'prev_yellow_cards',\n",
    "         'prev_red_cards', 'prev_saves', 'prev_bonus',\n",
    "         'prev_bps', 'prev_influence', 'prev_creativity',\n",
    "         'prev_threat', 'prev_ict_index', 'prev_starts',\n",
    "         'prev_expected_goals', 'prev_expected_assists', 'prev_expected_goal_involvements',\n",
    "         'prev_expected_goals_conceded', 'prev_in_dreamteam']\n",
    "\n",
    "for i in range(0, len(input_data)):\n",
    "    output_data.at[i, 'predicted_score'] = retrieved_xgboost_model.predict(input_data.loc[i, inputs].values.reshape(1, -1))[0]\n",
    "\n",
    "output_data"
   ]
  },
  {
   "cell_type": "code",
   "execution_count": null,
   "id": "95d78ba2",
   "metadata": {},
   "outputs": [],
   "source": [
    "output_data.info()"
   ]
  },
  {
   "cell_type": "markdown",
   "id": "d23e2b0a",
   "metadata": {},
   "source": [
    "### <span style=\"color:#ff5f27;\">🤖 Saving the predictions (for monitoring) to a Feature Group</span>"
   ]
  },
  {
   "cell_type": "markdown",
   "id": "6ff10c12",
   "metadata": {},
   "source": [
    "### Create Forecast Graph\n",
    "Draw a graph of the predictions with dates as a PNG and save it to the github repo\n",
    "Show it on github pages"
   ]
  },
  {
   "cell_type": "code",
   "execution_count": null,
   "id": "9bb0f844",
   "metadata": {},
   "outputs": [],
   "source": [
    "file_path = \"./player_score_model/images/predicted_scores.png\"\n",
    "plt = util.plot_player_score_forecast(\"FPL Player scores\", output_data, file_path, hindcast=False)\n",
    "plt.show()"
   ]
  },
  {
   "cell_type": "code",
   "execution_count": 40,
   "id": "c418a791",
   "metadata": {},
   "outputs": [],
   "source": [
    "# Get or create feature group\n",
    "monitor_fg = fs.get_or_create_feature_group(\n",
    "    name='fpl_predictions',\n",
    "    description='FPL player score prediction monitoring',\n",
    "    version=1,\n",
    "    primary_key=['id', 'gameweek']\n",
    ")"
   ]
  },
  {
   "cell_type": "code",
   "execution_count": null,
   "id": "8992650a",
   "metadata": {},
   "outputs": [],
   "source": [
    "monitor_fg.insert(output_data, write_options={\"wait_for_job\": True})"
   ]
  },
  {
   "cell_type": "code",
   "execution_count": 42,
   "id": "aa2c1b07",
   "metadata": {},
   "outputs": [],
   "source": [
    "# We will create a hindcast chart for  only the forecasts made 1 day beforehand\n",
    "# monitoring_df = monitor_fg.filter(monitor_fg.days_before_forecast_day == 1).read()\n",
    "# monitoring_df"
   ]
  },
  {
   "cell_type": "code",
   "execution_count": 43,
   "id": "8c3ff020",
   "metadata": {},
   "outputs": [],
   "source": [
    "# air_quality_fg = fs.get_feature_group(\n",
    "#     name='air_quality',\n",
    "#     version=1,\n",
    "# )\n",
    "# air_quality_df = air_quality_fg.read()\n",
    "# air_quality_df"
   ]
  },
  {
   "cell_type": "code",
   "execution_count": 44,
   "id": "6763f180",
   "metadata": {},
   "outputs": [],
   "source": [
    "# from functions.util import backfill_predictions_for_monitoring\n",
    "\n",
    "# outcome_df = air_quality_df[['date', 'pm25']]\n",
    "# preds_df =  monitoring_df[['date', 'predicted_pm25']]\n",
    "\n",
    "# hindcast_df = pd.merge(preds_df, outcome_df, on=\"date\")\n",
    "# hindcast_df = hindcast_df.sort_values(by=['date'], ascending=False)\n",
    "\n",
    "# # If there are no outcomes for predictions yet, generate some predictions/outcomes from existing data\n",
    "# if len(hindcast_df) == 0:\n",
    "#     hindcast_df = backfill_predictions_for_monitoring(weather_fg, air_quality_df, monitor_fg, retrieved_xgboost_model, today)\n",
    "# hindcast_df"
   ]
  },
  {
   "cell_type": "markdown",
   "id": "9edb1552",
   "metadata": {},
   "source": [
    "### Plot the Hindcast comparing predicted with forecasted values (1-day prior forecast)\n",
    "\n",
    "__This graph will be empty to begin with - this is normal.__\n",
    "\n",
    "After a few days of predictions and observations, you will get data points in this graph."
   ]
  },
  {
   "cell_type": "code",
   "execution_count": 45,
   "id": "31e62393",
   "metadata": {},
   "outputs": [],
   "source": [
    "# file_path = \"../../docs/assets/images/pm25_hindcast.png\"\n",
    "# plt = util.plot_air_quality_forecast(city, street, hindcast_df, file_path, hindcast=True)\n",
    "# plt.show()"
   ]
  },
  {
   "cell_type": "markdown",
   "id": "c29eb549",
   "metadata": {},
   "source": [
    "---"
   ]
  }
 ],
 "metadata": {
  "kernelspec": {
   "display_name": "aq",
   "language": "python",
   "name": "python3"
  },
  "language_info": {
   "codemirror_mode": {
    "name": "ipython",
    "version": 3
   },
   "file_extension": ".py",
   "mimetype": "text/x-python",
   "name": "python",
   "nbconvert_exporter": "python",
   "pygments_lexer": "ipython3",
   "version": "3.10.15"
  }
 },
 "nbformat": 4,
 "nbformat_minor": 5
}
