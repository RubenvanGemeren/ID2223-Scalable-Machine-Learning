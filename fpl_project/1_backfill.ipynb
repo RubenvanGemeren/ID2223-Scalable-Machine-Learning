{
 "cells": [
  {
   "cell_type": "markdown",
   "metadata": {},
   "source": [
    "# Step 1 – Backfill"
   ]
  },
  {
   "cell_type": "markdown",
   "metadata": {},
   "source": [
    "### Setting up Hopsworks"
   ]
  },
  {
   "cell_type": "markdown",
   "metadata": {},
   "source": []
  },
  {
   "cell_type": "markdown",
   "metadata": {},
   "source": [
    "### Getting historical data"
   ]
  },
  {
   "cell_type": "code",
   "execution_count": null,
   "metadata": {},
   "outputs": [],
   "source": [
    "import requests"
   ]
  },
  {
   "cell_type": "code",
   "execution_count": null,
   "metadata": {},
   "outputs": [],
   "source": [
    "bootstrap_url = \"https://fantasy.premierleague.com/api/bootstrap-static/\"\n",
    "fixtures_url = \"https://fantasy.premierleague.com/api/fixtures/\"\n",
    "player_details_url = \"https://fantasy.premierleague.com/api/element-summary/{element_id}\"\n",
    "player_stats_gw_url = \"https://fantasy.premierleague.com/api/event/{gw}/live/\""
   ]
  }
 ],
 "metadata": {
  "kernelspec": {
   "display_name": "base",
   "language": "python",
   "name": "python3"
  },
  "language_info": {
   "name": "python",
   "version": "3.11.0"
  }
 },
 "nbformat": 4,
 "nbformat_minor": 2
}
