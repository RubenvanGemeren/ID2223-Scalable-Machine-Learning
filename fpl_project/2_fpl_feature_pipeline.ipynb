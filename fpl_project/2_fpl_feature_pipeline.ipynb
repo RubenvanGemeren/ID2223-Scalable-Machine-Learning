{
 "cells": [
  {
   "cell_type": "code",
   "execution_count": 91,
   "metadata": {},
   "outputs": [],
   "source": [
    "import pandas as pd\n",
    "import hopsworks\n",
    "import os\n",
    "import requests"
   ]
  },
  {
   "cell_type": "code",
   "execution_count": 92,
   "metadata": {},
   "outputs": [],
   "source": [
    "player_stats_gw_url = \"https://fantasy.premierleague.com/api/event/{gw}/live/\"\n",
    "bootstrap_url = \"https://fantasy.premierleague.com/api/bootstrap-static/\""
   ]
  },
  {
   "cell_type": "code",
   "execution_count": 93,
   "metadata": {},
   "outputs": [
    {
     "name": "stdout",
     "output_type": "stream",
     "text": [
      "2025-01-05 11:58:51,363 INFO: Closing external client and cleaning up certificates.\n",
      "Connection closed.\n",
      "2025-01-05 11:58:51,369 INFO: Initializing external client\n",
      "2025-01-05 11:58:51,369 INFO: Base URL: https://c.app.hopsworks.ai:443\n",
      "2025-01-05 11:58:52,567 INFO: Python Engine initialized.\n",
      "\n",
      "Logged in to project, explore it here https://c.app.hopsworks.ai:443/p/1159321\n",
      "Default project\n"
     ]
    }
   ],
   "source": [
    "try:\n",
    "    with open('./hopsworks/hopsworks-api-key.txt', 'r') as file:\n",
    "        os.environ[\"HOPSWORKS_API_KEY\"] = file.read().rstrip()\n",
    "except:\n",
    "    print(\"In production mode\")\n",
    "    \n",
    "project = hopsworks.login()\n",
    "print(project.description)"
   ]
  },
  {
   "cell_type": "code",
   "execution_count": 94,
   "metadata": {},
   "outputs": [],
   "source": [
    "general_info = requests.get(bootstrap_url).json()"
   ]
  },
  {
   "cell_type": "code",
   "execution_count": 95,
   "metadata": {},
   "outputs": [
    {
     "name": "stdout",
     "output_type": "stream",
     "text": [
      "19\n"
     ]
    }
   ],
   "source": [
    "with open ('./state/prev_gameweek.txt', 'r') as file:\n",
    "    prev_gameweek = file.readline()\n",
    "print(prev_gameweek)"
   ]
  },
  {
   "cell_type": "code",
   "execution_count": 96,
   "metadata": {},
   "outputs": [
    {
     "data": {
      "text/plain": [
       "True"
      ]
     },
     "execution_count": 96,
     "metadata": {},
     "output_type": "execute_result"
    }
   ],
   "source": [
    "prev_gameweek = next(\n",
    "    (gw for gw in general_info['events'] if gw['id'] == int(prev_gameweek)), None\n",
    ")\n",
    "prev_finished = prev_gameweek['finished']\n",
    "prev_finished"
   ]
  },
  {
   "cell_type": "code",
   "execution_count": 97,
   "metadata": {},
   "outputs": [],
   "source": [
    "current_gameweek = next(\n",
    "    (gw for gw in general_info['events'] if gw['is_current']), None\n",
    ")"
   ]
  },
  {
   "cell_type": "code",
   "execution_count": 98,
   "metadata": {},
   "outputs": [],
   "source": [
    "lagged_features = ['minutes', 'goals_scored', 'assists', 'clean_sheets',\n",
    "                   'goals_conceded', 'own_goals', 'penalties_saved',\n",
    "                   'penalties_missed', 'yellow_cards', 'red_cards', 'saves',\n",
    "                   'bonus', 'bps', 'influence', 'creativity', 'threat',\n",
    "                   'ict_index', 'starts', 'expected_goals', 'expected_assists',\n",
    "                   'expected_goal_involvements', 'expected_goals_conceded',\n",
    "                   'in_dreamteam']\n"
   ]
  },
  {
   "cell_type": "code",
   "execution_count": 99,
   "metadata": {},
   "outputs": [
    {
     "name": "stderr",
     "output_type": "stream",
     "text": [
      "Uploading Dataframe: 100.00% |██████████| Rows 709/709 | Elapsed Time: 00:01 | Remaining Time: 00:00\n"
     ]
    },
    {
     "name": "stdout",
     "output_type": "stream",
     "text": [
      "Launching job: player_features_1_offline_fg_materialization\n",
      "Job started successfully, you can follow the progress at \n",
      "https://c.app.hopsworks.ai:443/p/1159321/jobs/named/player_features_1_offline_fg_materialization/executions\n",
      "Inserted data for gameweek 20\n"
     ]
    }
   ],
   "source": [
    "if prev_gameweek != current_gameweek[\"id\"] and prev_finished:\n",
    "\n",
    "\n",
    "    prev_stats = player_stats_gw_url.format(gw=prev_gameweek[\"id\"])\n",
    "    prev_stats = requests.get(prev_stats).json()\n",
    "    prev_stats_df = pd.DataFrame(prev_stats[\"elements\"]).drop(columns=[\"explain\", \"modified\"])\n",
    "    prev_stats_df = pd.concat(\n",
    "        [prev_stats_df.drop(columns=[\"stats\"]), prev_stats_df[\"stats\"].apply(pd.Series)], \n",
    "        axis=1\n",
    "    )\n",
    "    prev_stats_df[\"gameweek\"] = current_gameweek[\"id\"]\n",
    "\n",
    "    prev_stats_df.rename(columns={col: f\"prev_{col}\" for col in prev_stats_df.columns if col not in [\"id\", \"gameweek\", \"total_points\"]}, inplace=True)\n",
    "\n",
    "    prev_stats_df = prev_stats_df.dropna(subset=[f'prev_{col}' for col in lagged_features] + ['total_points'])\n",
    "\n",
    "    prev_stats_df = prev_stats_df.astype({col: 'float64' for col in prev_stats_df.columns if col not in [\"id\", \"gameweek\", \"total_points\"]})\n",
    "\n",
    "    fs = project.get_feature_store() \n",
    "\n",
    "    player_fg = fs.get_feature_group(\n",
    "        name=\"player_features\",\n",
    "        version=1,\n",
    "    )\n",
    "    \n",
    "    player_fg.insert(prev_stats_df)\n",
    "\n",
    "    with open ('./state/prev_gameweek.txt', 'w') as file:\n",
    "        file.write(str(current_gameweek[\"id\"]))\n",
    "\n",
    "    print(\"Inserted data for gameweek\", current_gameweek[\"id\"])"
   ]
  },
  {
   "cell_type": "code",
   "execution_count": null,
   "metadata": {},
   "outputs": [],
   "source": []
  }
 ],
 "metadata": {
  "kernelspec": {
   "display_name": "base",
   "language": "python",
   "name": "python3"
  },
  "language_info": {
   "codemirror_mode": {
    "name": "ipython",
    "version": 3
   },
   "file_extension": ".py",
   "mimetype": "text/x-python",
   "name": "python",
   "nbconvert_exporter": "python",
   "pygments_lexer": "ipython3",
   "version": "3.11.0"
  }
 },
 "nbformat": 4,
 "nbformat_minor": 2
}
