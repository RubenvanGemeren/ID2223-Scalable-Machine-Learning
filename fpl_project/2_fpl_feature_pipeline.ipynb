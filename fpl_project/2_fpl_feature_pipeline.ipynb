{
 "cells": [
  {
   "cell_type": "code",
   "execution_count": 36,
   "metadata": {},
   "outputs": [],
   "source": [
    "import pandas as pd\n",
    "import hopsworks\n",
    "import os\n",
    "import requests"
   ]
  },
  {
   "cell_type": "code",
   "execution_count": 37,
   "metadata": {},
   "outputs": [],
   "source": [
    "player_stats_gw_url = \"https://fantasy.premierleague.com/api/event/{gw}/live/\"\n",
    "bootstrap_url = \"https://fantasy.premierleague.com/api/bootstrap-static/\""
   ]
  },
  {
   "cell_type": "code",
   "execution_count": null,
   "metadata": {},
   "outputs": [],
   "source": [
    "try:\n",
    "    with open('./hopsworks/hopsworks-api-key.txt', 'r') as file:\n",
    "        os.environ[\"HOPSWORKS_API_KEY\"] = file.read().rstrip()\n",
    "except:\n",
    "    print(\"In production mode\")\n",
    "\n",
    "project = hopsworks.login()\n",
    "print(project.description)"
   ]
  },
  {
   "cell_type": "code",
   "execution_count": null,
   "metadata": {},
   "outputs": [],
   "source": [
    "general_info = requests.get(bootstrap_url).json()\n",
    "general_stats = pd.DataFrame(general_info[\"elements\"])\n",
    "general_stats"
   ]
  },
  {
   "cell_type": "code",
   "execution_count": 40,
   "metadata": {},
   "outputs": [],
   "source": [
    "fs = project.get_feature_store()"
   ]
  },
  {
   "cell_type": "code",
   "execution_count": null,
   "metadata": {},
   "outputs": [],
   "source": [
    "player_fg = fs.get_feature_group(\"player_features\")"
   ]
  },
  {
   "cell_type": "code",
   "execution_count": null,
   "metadata": {},
   "outputs": [],
   "source": [
    "prev_gameweek = player_fg.select([\"gameweek\"]).read().max()\n",
    "\n",
    "prev_gameweek = next(\n",
    "    (gw for gw in general_info['events'] if gw['id'] == int(prev_gameweek)), None\n",
    ")\n",
    "prev_finished = prev_gameweek['finished']\n",
    "prev_finished"
   ]
  },
  {
   "cell_type": "code",
   "execution_count": 43,
   "metadata": {},
   "outputs": [],
   "source": [
    "lagged_features = ['minutes', 'goals_scored', 'assists', 'clean_sheets',\n",
    "                   'goals_conceded', 'own_goals', 'penalties_saved',\n",
    "                   'penalties_missed', 'yellow_cards', 'red_cards', 'saves',\n",
    "                   'bonus', 'bps', 'influence', 'creativity', 'threat',\n",
    "                   'ict_index', 'starts', 'expected_goals', 'expected_assists',\n",
    "                   'expected_goal_involvements', 'expected_goals_conceded',\n",
    "                   'in_dreamteam', 'total_points', 'selected', 'transfers_balance',\n",
    "                   'value', 'was_home', 'opponent_team']"
   ]
  },
  {
   "cell_type": "code",
   "execution_count": 44,
   "metadata": {},
   "outputs": [],
   "source": [
    "player_details_url = \"https://fantasy.premierleague.com/api/element-summary/{element_id}\""
   ]
  },
  {
   "cell_type": "code",
   "execution_count": 45,
   "metadata": {},
   "outputs": [],
   "source": [
    "if prev_finished:\n",
    "    prev_stats = player_stats_gw_url.format(gw=prev_gameweek[\"id\"])\n",
    "    prev_stats = requests.get(prev_stats).json()\n",
    "    prev_stats_df = pd.DataFrame(prev_stats[\"elements\"]).drop(columns=[\"explain\", \"modified\"])\n",
    "    prev_stats_df = pd.concat(\n",
    "        [prev_stats_df.drop(columns=[\"stats\"]), prev_stats_df[\"stats\"].apply(pd.Series)],\n",
    "        axis=1\n",
    "    )\n",
    "    prev_stats_df.rename(columns={\"total_points\": \"points\"}, inplace=True)"
   ]
  },
  {
   "cell_type": "code",
   "execution_count": null,
   "metadata": {},
   "outputs": [],
   "source": [
    "if prev_finished:\n",
    "    existing_data = player_fg.read()\n",
    "\n",
    "    existing_data = existing_data.set_index('id')\n",
    "    prev_stats_df = prev_stats_df.set_index('id')\n",
    "\n",
    "    # Update the \"points\" column for the specified gameweek\n",
    "    existing_data.loc[existing_data['gameweek'] == prev_gameweek[\"id\"], 'points'] = prev_stats_df['points']\n",
    "\n",
    "    # Reset index if needed\n",
    "    existing_data = existing_data.reset_index()\n",
    "    prev_stats_df = prev_stats_df.reset_index()\n",
    "\n",
    "    # Save the updated data back to the feature group\n",
    "    player_fg.insert(existing_data[existing_data[\"gameweek\"] == prev_gameweek[\"id\"]])\n",
    "    print(f\"Updated player points for gameweek {prev_gameweek['id']}\")"
   ]
  },
  {
   "cell_type": "code",
   "execution_count": null,
   "metadata": {},
   "outputs": [],
   "source": [
    "if prev_finished:\n",
    "\n",
    "    for i in range(1, len(prev_stats_df['id'].unique()) + 1):\n",
    "\n",
    "        player_details_url_formatted = player_details_url.format(element_id=i)\n",
    "        player_details = requests.get(player_details_url_formatted).json()\n",
    "        player_details_history_df = pd.DataFrame(player_details[\"history\"])\n",
    "\n",
    "        total_points = player_details_history_df[\"total_points\"].sum()\n",
    "\n",
    "        row = player_details_history_df[player_details_history_df['round'] == prev_gameweek[\"id\"]].iloc[0]\n",
    "\n",
    "        prev_stats_df.loc[prev_stats_df['id'] == i, 'total_points'] = total_points\n",
    "        prev_stats_df.loc[prev_stats_df['id'] == i, 'selected'] = row['selected']\n",
    "        prev_stats_df.loc[prev_stats_df['id'] == i, 'transfers_balance'] = row['transfers_balance']\n",
    "        prev_stats_df.loc[prev_stats_df['id'] == i, 'value'] = row['value']\n",
    "        prev_stats_df.loc[prev_stats_df['id'] == i, 'was_home'] = row['was_home']\n",
    "        prev_stats_df.loc[prev_stats_df['id'] == i, 'opponent_team'] = row['opponent_team']\n",
    "\n",
    "\n",
    "    prev_stats_df.rename(columns={col: f\"prev_{col}\" for col in prev_stats_df.columns if col not in [\"id\", \"gameweek\", \"points\"]}, inplace=True)\n",
    "\n",
    "    prev_stats_df = prev_stats_df.dropna(subset=[f'prev_{col}' for col in lagged_features] + ['points'])\n",
    "\n",
    "\n",
    "    prev_stats_df = prev_stats_df.astype({col: 'float64' for col in prev_stats_df.columns if col not in [\"id\", \"gameweek\", \"points\"]})\n",
    "\n",
    "\n",
    "    prev_stats_df[\"gameweek\"] = prev_gameweek[\"id\"] + 1\n",
    "\n",
    "    # Merge the general stats DataFrame with the all_gameweeks_df DataFrame\n",
    "    prev_stats_df = prev_stats_df.merge(general_stats[[\"id\",\"element_type\"]], on=\"id\", how=\"left\")\n",
    "    \n",
    "    fs = project.get_feature_store()\n",
    "\n",
    "    player_fg = fs.get_feature_group(\n",
    "        name=\"player_features\",\n",
    "        version=1,\n",
    "    )\n",
    "\n",
    "    player_fg.insert(prev_stats_df)\n",
    "\n",
    "    print(\"Inserted data for gameweek\", prev_gameweek[\"id\"] + 1)"
   ]
  },
  {
   "cell_type": "code",
   "execution_count": null,
   "metadata": {},
   "outputs": [],
   "source": []
  }
 ],
 "metadata": {
  "kernelspec": {
   "display_name": "base",
   "language": "python",
   "name": "python3"
  },
  "language_info": {
   "codemirror_mode": {
    "name": "ipython",
    "version": 3
   },
   "file_extension": ".py",
   "mimetype": "text/x-python",
   "name": "python",
   "nbconvert_exporter": "python",
   "pygments_lexer": "ipython3",
   "version": "3.11.0"
  }
 },
 "nbformat": 4,
 "nbformat_minor": 2
}
