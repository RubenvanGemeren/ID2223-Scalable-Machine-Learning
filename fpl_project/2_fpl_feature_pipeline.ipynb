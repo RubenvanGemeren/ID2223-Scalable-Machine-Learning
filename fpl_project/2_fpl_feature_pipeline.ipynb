{
 "cells": [
  {
   "cell_type": "code",
   "execution_count": 15,
   "metadata": {},
   "outputs": [],
   "source": [
    "import pandas as pd\n",
    "import hopsworks\n",
    "import os\n",
    "import requests"
   ]
  },
  {
   "cell_type": "code",
   "execution_count": 16,
   "metadata": {},
   "outputs": [],
   "source": [
    "player_stats_gw_url = \"https://fantasy.premierleague.com/api/event/{gw}/live/\"\n",
    "bootstrap_url = \"https://fantasy.premierleague.com/api/bootstrap-static/\""
   ]
  },
  {
   "cell_type": "code",
   "execution_count": null,
   "metadata": {},
   "outputs": [],
   "source": [
    "try:\n",
    "    with open('./hopsworks/hopsworks-api-key.txt', 'r') as file:\n",
    "        os.environ[\"HOPSWORKS_API_KEY\"] = file.read().rstrip()\n",
    "except:\n",
    "    print(\"In production mode\")\n",
    "\n",
    "project = hopsworks.login()\n",
    "print(project.description)"
   ]
  },
  {
   "cell_type": "code",
   "execution_count": 18,
   "metadata": {},
   "outputs": [],
   "source": [
    "general_info = requests.get(bootstrap_url).json()"
   ]
  },
  {
   "cell_type": "code",
   "execution_count": null,
   "metadata": {},
   "outputs": [],
   "source": [
    "# Get previous (and current) gameweek and check if it's finished\n",
    "with open ('./state/prev_gameweek.txt', 'r') as file:\n",
    "    prev_gameweek = file.readline()\n",
    "\n",
    "prev_gameweek = next(\n",
    "    (gw for gw in general_info['events'] if gw['id'] == int(prev_gameweek)), None\n",
    ")\n",
    "prev_finished = prev_gameweek['finished']\n",
    "\n",
    "current_gameweek = next(\n",
    "    (gw for gw in general_info['events'] if gw['is_current']), None\n",
    ")\n",
    "\n",
    "print(f\"Previous gameweek: {prev_gameweek['id']}\")"
   ]
  },
  {
   "cell_type": "code",
   "execution_count": 20,
   "metadata": {},
   "outputs": [],
   "source": [
    "lagged_features = ['minutes', 'goals_scored', 'assists', 'clean_sheets',\n",
    "                   'goals_conceded', 'own_goals', 'penalties_saved',\n",
    "                   'penalties_missed', 'yellow_cards', 'red_cards', 'saves',\n",
    "                   'bonus', 'bps', 'influence', 'creativity', 'threat',\n",
    "                   'ict_index', 'starts', 'expected_goals', 'expected_assists',\n",
    "                   'expected_goal_involvements', 'expected_goals_conceded',\n",
    "                   'in_dreamteam', 'total_points', 'selected', 'transfers_balance',\n",
    "                   'value', 'was_home']"
   ]
  },
  {
   "cell_type": "code",
   "execution_count": 21,
   "metadata": {},
   "outputs": [],
   "source": [
    "player_details_url = \"https://fantasy.premierleague.com/api/element-summary/{element_id}\""
   ]
  },
  {
   "cell_type": "code",
   "execution_count": null,
   "metadata": {},
   "outputs": [],
   "source": [
    "if prev_finished:\n",
    "\n",
    "\n",
    "    prev_stats = player_stats_gw_url.format(gw=prev_gameweek[\"id\"])\n",
    "    prev_stats = requests.get(prev_stats).json()\n",
    "    prev_stats_df = pd.DataFrame(prev_stats[\"elements\"]).drop(columns=[\"explain\", \"modified\"])\n",
    "    prev_stats_df = pd.concat(\n",
    "        [prev_stats_df.drop(columns=[\"stats\"]), prev_stats_df[\"stats\"].apply(pd.Series)],\n",
    "        axis=1\n",
    "    )\n",
    "    prev_stats_df[\"gameweek\"] = current_gameweek[\"id\"]\n",
    "    prev_stats_df.rename(columns={\"total_points\": \"points\"}, inplace=True)\n",
    "\n",
    "    for i in range(1, len(prev_stats_df['id'].unique()) + 1):\n",
    "\n",
    "        player_details_url_formatted = player_details_url.format(element_id=i)\n",
    "        player_details = requests.get(player_details_url_formatted).json()\n",
    "        player_details_history_df = pd.DataFrame(player_details[\"history\"])\n",
    "\n",
    "        total_points = player_details_history_df[\"total_points\"].sum()\n",
    "\n",
    "        row = player_details_history_df[player_details_history_df['round'] == prev_gameweek[\"id\"]].iloc[0]\n",
    "\n",
    "        prev_stats_df.loc[prev_stats_df['id'] == i, 'total_points'] = total_points\n",
    "        prev_stats_df.loc[prev_stats_df['id'] == i, 'selected'] = row['selected']\n",
    "        prev_stats_df.loc[prev_stats_df['id'] == i, 'transfers_balance'] = row['transfers_balance']\n",
    "        prev_stats_df.loc[prev_stats_df['id'] == i, 'value'] = row['value']\n",
    "        prev_stats_df.loc[prev_stats_df['id'] == i, 'was_home'] = row['was_home']\n",
    "\n",
    "\n",
    "    prev_stats_df.rename(columns={col: f\"prev_{col}\" for col in prev_stats_df.columns if col not in [\"id\", \"gameweek\", \"points\"]}, inplace=True)\n",
    "\n",
    "    prev_stats_df = prev_stats_df.dropna(subset=[f'prev_{col}' for col in lagged_features] + ['points'])\n",
    "\n",
    "    prev_stats_df = prev_stats_df.astype({col: 'float64' for col in prev_stats_df.columns if col not in [\"id\", \"gameweek\", \"points\"]})\n",
    "\n",
    "    fs = project.get_feature_store()\n",
    "\n",
    "    player_fg = fs.get_feature_group(\n",
    "        name=\"player_features\",\n",
    "        version=1,\n",
    "    )\n",
    "\n",
    "    player_fg.insert(prev_stats_df)\n",
    "\n",
    "    print(\"Inserted data for gameweek\", current_gameweek[\"id\"])\n",
    "    print(prev_stats_df)"
   ]
  }
 ],
 "metadata": {
  "kernelspec": {
   "display_name": "aq",
   "language": "python",
   "name": "python3"
  },
  "language_info": {
   "codemirror_mode": {
    "name": "ipython",
    "version": 3
   },
   "file_extension": ".py",
   "mimetype": "text/x-python",
   "name": "python",
   "nbconvert_exporter": "python",
   "pygments_lexer": "ipython3",
   "version": "3.10.15"
  }
 },
 "nbformat": 4,
 "nbformat_minor": 2
}
